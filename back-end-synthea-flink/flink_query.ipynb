{
 "cells": [
  {
   "cell_type": "code",
   "execution_count": 1,
   "metadata": {},
   "outputs": [
    {
     "name": "stdout",
     "output_type": "stream",
     "text": [
      "env: JAVA_TOOL_OPTIONS='--add-opens=java.base/java.util=ALL-UNNAMED --add-opens=java.base/java.lang=ALL-UNNAMED'\n",
      "env: FLINK_CONF_DIR=/Users/soufiane/Workspace/agile/flink_sql_tutorial/config\n"
     ]
    }
   ],
   "source": [
    "%env JAVA_TOOL_OPTIONS='--add-opens=java.base/java.util=ALL-UNNAMED --add-opens=java.base/java.lang=ALL-UNNAMED'\n",
    "%env FLINK_CONF_DIR=/Users/soufiane/Workspace/agile/medical-dashboard/back-end-synthea-flink/config"
   ]
  },
  {
   "cell_type": "code",
   "execution_count": 2,
   "metadata": {},
   "outputs": [
    {
     "name": "stdout",
     "output_type": "stream",
     "text": [
      "Could not find scli config file at '/Users/soufiane/Workspace/agile/flink_sql_tutorial/.streaming_config.yml'. Will not load any secrets.\n",
      "Set env variable JAVA_TOOL_OPTIONS='--add-opens=java.base/java.util=ALL-UNNAMED --add-opens=java.base/java.lang=ALL-UNNAMED'\n"
     ]
    }
   ],
   "source": [
    "%load_ext streaming_jupyter_integrations.magics"
   ]
  },
  {
   "cell_type": "code",
   "execution_count": 5,
   "metadata": {},
   "outputs": [
    {
     "name": "stdout",
     "output_type": "stream",
     "text": [
      "remote environment has been created.\n"
     ]
    }
   ],
   "source": [
    "%flink_connect --execution-target remote --remote-hostname localhost --remote-port 8081\n",
    "#%flink_connect "
   ]
  },
  {
   "cell_type": "code",
   "execution_count": 6,
   "metadata": {},
   "outputs": [
    {
     "name": "stdout",
     "output_type": "stream",
     "text": [
      "Job starting...\n",
      "Job started\n",
      "Execution successful\n"
     ]
    }
   ],
   "source": [
    "%%flink_execute_sql\n",
    "CREATE TABLE patient (\n",
    "  `id` STRING,\n",
    "  `gender` STRING,\n",
    "  `name` ROW(family STRING) ARRAY\n",
    ") WITH (\n",
    "  'connector' = 'kafka',\n",
    "  'topic' = 'Patient',\n",
    "  'properties.bootstrap.servers' = 'kafka-edge1:9092',\n",
    "  'properties.group.id' = 'testGroup',\n",
    "  'scan.startup.mode' = 'earliest-offset',\n",
    "  'format' = 'json'\n",
    ")"
   ]
  },
  {
   "cell_type": "code",
   "execution_count": 7,
   "metadata": {},
   "outputs": [
    {
     "name": "stdout",
     "output_type": "stream",
     "text": [
      "Job starting...\n",
      "Job started\n",
      "Execution successful\n"
     ]
    }
   ],
   "source": [
    "%%flink_execute_sql\n",
    "CREATE TABLE diagnosticReport (\n",
    "  `id` STRING,\n",
    "  `subject` ROW (`reference` STRING),\n",
    "  `code` ROW(`coding` ROW(`display` STRING) ARRAY)\n",
    ") WITH (\n",
    "  'connector' = 'kafka',\n",
    "  'topic' = 'DiagnosticReport',\n",
    "  'properties.bootstrap.servers' = 'kafka-edge1:9092',\n",
    "  'properties.group.id' = 'testGroup',\n",
    "  'scan.startup.mode' = 'earliest-offset',\n",
    "  'format' = 'json'\n",
    ")"
   ]
  },
  {
   "cell_type": "code",
   "execution_count": null,
   "metadata": {},
   "outputs": [],
   "source": []
  },
  {
   "cell_type": "code",
   "execution_count": 8,
   "metadata": {},
   "outputs": [
    {
     "name": "stdout",
     "output_type": "stream",
     "text": [
      "This job runs in a background, please either wait or interrupt its execution before continuing\n"
     ]
    },
    {
     "data": {
      "application/vnd.jupyter.widget-view+json": {
       "model_id": "19b9b305fd014b26a0f4c8348409f1c9",
       "version_major": 2,
       "version_minor": 0
      },
      "text/plain": [
       "HBox(children=(Button(button_style='warning', description='Interrupt', icon='times', style=ButtonStyle(), tool…"
      ]
     },
     "metadata": {},
     "output_type": "display_data"
    },
    {
     "name": "stdout",
     "output_type": "stream",
     "text": [
      "Job starting...\n",
      "Job started\n",
      "Pulling query results...\n",
      "Results will be pulled from the job. You can interrupt any time to show partial results.\n",
      "Execution result will bind to `execution_result` variable.\n"
     ]
    },
    {
     "data": {
      "application/vnd.jupyter.widget-view+json": {
       "model_id": "cb9d3d1ed1e84c7bb6570a7b9d2522a7",
       "version_major": 2,
       "version_minor": 0
      },
      "text/plain": [
       "IntText(value=0, description='Loaded rows: ')"
      ]
     },
     "metadata": {},
     "output_type": "display_data"
    },
    {
     "data": {
      "text/html": [
       "<div>\n",
       "<style scoped>\n",
       "    .dataframe tbody tr th:only-of-type {\n",
       "        vertical-align: middle;\n",
       "    }\n",
       "\n",
       "    .dataframe tbody tr th {\n",
       "        vertical-align: top;\n",
       "    }\n",
       "\n",
       "    .dataframe thead th {\n",
       "        text-align: right;\n",
       "    }\n",
       "</style>\n",
       "<table border=\"1\" class=\"dataframe\">\n",
       "  <thead>\n",
       "    <tr style=\"text-align: right;\">\n",
       "      <th></th>\n",
       "      <th>table name</th>\n",
       "    </tr>\n",
       "  </thead>\n",
       "  <tbody>\n",
       "    <tr>\n",
       "      <th>0</th>\n",
       "      <td>diagnosticReport</td>\n",
       "    </tr>\n",
       "    <tr>\n",
       "      <th>1</th>\n",
       "      <td>patient</td>\n",
       "    </tr>\n",
       "  </tbody>\n",
       "</table>\n",
       "</div>"
      ],
      "text/plain": [
       "         table name\n",
       "0  diagnosticReport\n",
       "1           patient"
      ]
     },
     "metadata": {},
     "output_type": "display_data"
    },
    {
     "name": "stdout",
     "output_type": "stream",
     "text": [
      "Execution done\n",
      "Deployment cancellation in progress...\n",
      "Job termination in progress...\n"
     ]
    }
   ],
   "source": [
    "%%flink_execute_sql\n",
    "SHOW TABLES"
   ]
  },
  {
   "cell_type": "code",
   "execution_count": 9,
   "metadata": {},
   "outputs": [
    {
     "name": "stdout",
     "output_type": "stream",
     "text": [
      "This job runs in a background, please either wait or interrupt its execution before continuing\n"
     ]
    },
    {
     "data": {
      "application/vnd.jupyter.widget-view+json": {
       "model_id": "efaaf49f610b475488b70e69b66094af",
       "version_major": 2,
       "version_minor": 0
      },
      "text/plain": [
       "HBox(children=(Button(button_style='warning', description='Interrupt', icon='times', style=ButtonStyle(), tool…"
      ]
     },
     "metadata": {},
     "output_type": "display_data"
    },
    {
     "name": "stdout",
     "output_type": "stream",
     "text": [
      "Job starting...\n",
      "Job started\n",
      "Pulling query results...\n",
      "Results will be pulled from the job. You can interrupt any time to show partial results.\n",
      "Execution result will bind to `execution_result` variable.\n"
     ]
    },
    {
     "data": {
      "application/vnd.jupyter.widget-view+json": {
       "model_id": "276fc6cb940b444f9531be9415a9f495",
       "version_major": 2,
       "version_minor": 0
      },
      "text/plain": [
       "IntText(value=0, description='Loaded rows: ')"
      ]
     },
     "metadata": {},
     "output_type": "display_data"
    },
    {
     "data": {
      "text/html": [
       "<div>\n",
       "<style scoped>\n",
       "    .dataframe tbody tr th:only-of-type {\n",
       "        vertical-align: middle;\n",
       "    }\n",
       "\n",
       "    .dataframe tbody tr th {\n",
       "        vertical-align: top;\n",
       "    }\n",
       "\n",
       "    .dataframe thead th {\n",
       "        text-align: right;\n",
       "    }\n",
       "</style>\n",
       "<table border=\"1\" class=\"dataframe\">\n",
       "  <thead>\n",
       "    <tr style=\"text-align: right;\">\n",
       "      <th></th>\n",
       "      <th>id</th>\n",
       "      <th>gender</th>\n",
       "      <th>name</th>\n",
       "    </tr>\n",
       "  </thead>\n",
       "  <tbody>\n",
       "    <tr>\n",
       "      <th>0</th>\n",
       "      <td>07f63393-cea1-14ed-2407-d241fd884f30</td>\n",
       "      <td>female</td>\n",
       "      <td>[[[Quigley282]]]</td>\n",
       "    </tr>\n",
       "  </tbody>\n",
       "</table>\n",
       "</div>"
      ],
      "text/plain": [
       "                                     id  gender              name\n",
       "0  07f63393-cea1-14ed-2407-d241fd884f30  female  [[[Quigley282]]]"
      ]
     },
     "metadata": {},
     "output_type": "display_data"
    },
    {
     "name": "stdout",
     "output_type": "stream",
     "text": [
      "Deployment cancellation in progress...\n",
      "Job termination in progress...\n",
      "Execution done\n",
      "Deployment cancellation in progress...\n",
      "Job termination in progress...\n"
     ]
    }
   ],
   "source": [
    "%%flink_execute_sql\n",
    "SELECT * FROM patient"
   ]
  },
  {
   "cell_type": "code",
   "execution_count": 10,
   "metadata": {},
   "outputs": [
    {
     "name": "stdout",
     "output_type": "stream",
     "text": [
      "Please wait for the previously submitted task to finish or cancel it.\n"
     ]
    }
   ],
   "source": [
    "%%flink_execute_sql\n",
    "SELECT id, name[1].family as familyName, gender FROM patient limit 5"
   ]
  },
  {
   "cell_type": "code",
   "execution_count": 11,
   "metadata": {},
   "outputs": [
    {
     "name": "stdout",
     "output_type": "stream",
     "text": [
      "Please wait for the previously submitted task to finish or cancel it.\n"
     ]
    }
   ],
   "source": [
    "%%flink_execute_sql\n",
    "SELECT id,subject.reference, code.coding[1].display as name FROM diagnosticReport limit 5"
   ]
  },
  {
   "cell_type": "code",
   "execution_count": 12,
   "metadata": {},
   "outputs": [
    {
     "name": "stdout",
     "output_type": "stream",
     "text": [
      "This job runs in a background, please either wait or interrupt its execution before continuing\n"
     ]
    },
    {
     "data": {
      "application/vnd.jupyter.widget-view+json": {
       "model_id": "e9c6711d0a57431abd97e44d9a0bd8a0",
       "version_major": 2,
       "version_minor": 0
      },
      "text/plain": [
       "HBox(children=(Button(button_style='warning', description='Interrupt', icon='times', style=ButtonStyle(), tool…"
      ]
     },
     "metadata": {},
     "output_type": "display_data"
    },
    {
     "name": "stdout",
     "output_type": "stream",
     "text": [
      "Job starting...\n",
      "Job started\n",
      "Pulling query results...\n",
      "Results will be pulled from the job. You can interrupt any time to show partial results.\n",
      "Execution result will bind to `execution_result` variable.\n"
     ]
    },
    {
     "data": {
      "application/vnd.jupyter.widget-view+json": {
       "model_id": "61b7c858127241efb9c91e6ea0d759c0",
       "version_major": 2,
       "version_minor": 0
      },
      "text/plain": [
       "IntText(value=0, description='Loaded rows: ')"
      ]
     },
     "metadata": {},
     "output_type": "display_data"
    },
    {
     "data": {
      "text/html": [
       "<div>\n",
       "<style scoped>\n",
       "    .dataframe tbody tr th:only-of-type {\n",
       "        vertical-align: middle;\n",
       "    }\n",
       "\n",
       "    .dataframe tbody tr th {\n",
       "        vertical-align: top;\n",
       "    }\n",
       "\n",
       "    .dataframe thead th {\n",
       "        text-align: right;\n",
       "    }\n",
       "</style>\n",
       "<table border=\"1\" class=\"dataframe\">\n",
       "  <thead>\n",
       "    <tr style=\"text-align: right;\">\n",
       "      <th></th>\n",
       "      <th>familyName</th>\n",
       "      <th>gender</th>\n",
       "      <th>id</th>\n",
       "      <th>diagnosticReportLabel</th>\n",
       "    </tr>\n",
       "  </thead>\n",
       "  <tbody>\n",
       "    <tr>\n",
       "      <th>0</th>\n",
       "      <td>Quigley282</td>\n",
       "      <td>female</td>\n",
       "      <td>227d8a79-b2ba-7b22-ccd7-1423b710a3ac</td>\n",
       "      <td>History and physical note</td>\n",
       "    </tr>\n",
       "    <tr>\n",
       "      <th>1</th>\n",
       "      <td>Quigley282</td>\n",
       "      <td>female</td>\n",
       "      <td>f1f832e7-c2bc-f240-8a92-d32d25459ce6</td>\n",
       "      <td>History and physical note</td>\n",
       "    </tr>\n",
       "    <tr>\n",
       "      <th>2</th>\n",
       "      <td>Quigley282</td>\n",
       "      <td>female</td>\n",
       "      <td>96acd66f-3d6b-365b-9f59-2784921e49af</td>\n",
       "      <td>History and physical note</td>\n",
       "    </tr>\n",
       "    <tr>\n",
       "      <th>3</th>\n",
       "      <td>Quigley282</td>\n",
       "      <td>female</td>\n",
       "      <td>5dd43d62-1632-167b-dee9-c784c0c878e5</td>\n",
       "      <td>History and physical note</td>\n",
       "    </tr>\n",
       "    <tr>\n",
       "      <th>4</th>\n",
       "      <td>Quigley282</td>\n",
       "      <td>female</td>\n",
       "      <td>47440459-5430-6964-8c99-311e29329478</td>\n",
       "      <td>History and physical note</td>\n",
       "    </tr>\n",
       "    <tr>\n",
       "      <th>5</th>\n",
       "      <td>Quigley282</td>\n",
       "      <td>female</td>\n",
       "      <td>3e91bf76-9402-fd4c-c3c4-dc45c37b6d2a</td>\n",
       "      <td>Generalized anxiety disorder 7 item (GAD-7)</td>\n",
       "    </tr>\n",
       "    <tr>\n",
       "      <th>6</th>\n",
       "      <td>Quigley282</td>\n",
       "      <td>female</td>\n",
       "      <td>76a0ed11-fc5e-da36-c3f0-0fc340b42d02</td>\n",
       "      <td>History and physical note</td>\n",
       "    </tr>\n",
       "    <tr>\n",
       "      <th>7</th>\n",
       "      <td>Quigley282</td>\n",
       "      <td>female</td>\n",
       "      <td>94339298-b8b9-8630-1ddd-96eee144308a</td>\n",
       "      <td>History and physical note</td>\n",
       "    </tr>\n",
       "    <tr>\n",
       "      <th>8</th>\n",
       "      <td>Quigley282</td>\n",
       "      <td>female</td>\n",
       "      <td>36d4444f-4cba-e8b6-fbe5-999a7df02940</td>\n",
       "      <td>History and physical note</td>\n",
       "    </tr>\n",
       "    <tr>\n",
       "      <th>9</th>\n",
       "      <td>Quigley282</td>\n",
       "      <td>female</td>\n",
       "      <td>84ed271c-f040-7873-ca42-53e1c542a387</td>\n",
       "      <td>History and physical note</td>\n",
       "    </tr>\n",
       "    <tr>\n",
       "      <th>10</th>\n",
       "      <td>Quigley282</td>\n",
       "      <td>female</td>\n",
       "      <td>eadbb060-1f45-4ba5-7437-565e6fa194b6</td>\n",
       "      <td>Generalized anxiety disorder 7 item (GAD-7)</td>\n",
       "    </tr>\n",
       "    <tr>\n",
       "      <th>11</th>\n",
       "      <td>Quigley282</td>\n",
       "      <td>female</td>\n",
       "      <td>299e2c13-527b-ba11-3fb5-29cd9979e9ee</td>\n",
       "      <td>Patient Health Questionnaire 2 item (PHQ-2) [Reported]</td>\n",
       "    </tr>\n",
       "    <tr>\n",
       "      <th>12</th>\n",
       "      <td>Quigley282</td>\n",
       "      <td>female</td>\n",
       "      <td>86e98b4d-49e2-719d-4f7c-319363025f6b</td>\n",
       "      <td>Patient Health Questionnaire 2 item (PHQ-2) [Reported]</td>\n",
       "    </tr>\n",
       "    <tr>\n",
       "      <th>13</th>\n",
       "      <td>Quigley282</td>\n",
       "      <td>female</td>\n",
       "      <td>f78d8606-889f-91f2-2018-306012499649</td>\n",
       "      <td>History and physical note</td>\n",
       "    </tr>\n",
       "    <tr>\n",
       "      <th>14</th>\n",
       "      <td>Quigley282</td>\n",
       "      <td>female</td>\n",
       "      <td>8e89949d-2a6b-a655-24eb-ff1e3ff5c900</td>\n",
       "      <td>History and physical note</td>\n",
       "    </tr>\n",
       "    <tr>\n",
       "      <th>15</th>\n",
       "      <td>Quigley282</td>\n",
       "      <td>female</td>\n",
       "      <td>c0dfe5f1-15e4-3774-bac6-3b53348ac08b</td>\n",
       "      <td>Humiliation, Afraid, Rape, and Kick questionnaire [HARK]</td>\n",
       "    </tr>\n",
       "    <tr>\n",
       "      <th>16</th>\n",
       "      <td>Quigley282</td>\n",
       "      <td>female</td>\n",
       "      <td>bc30b65c-de5a-8b60-0193-3f0783f32601</td>\n",
       "      <td>History and physical note</td>\n",
       "    </tr>\n",
       "    <tr>\n",
       "      <th>17</th>\n",
       "      <td>Quigley282</td>\n",
       "      <td>female</td>\n",
       "      <td>ff922f48-87a7-23ca-4ac3-6489126c3520</td>\n",
       "      <td>History and physical note</td>\n",
       "    </tr>\n",
       "    <tr>\n",
       "      <th>18</th>\n",
       "      <td>Quigley282</td>\n",
       "      <td>female</td>\n",
       "      <td>fd9ce7e9-15e3-dd86-87bf-927f784e5e9c</td>\n",
       "      <td>History and physical note</td>\n",
       "    </tr>\n",
       "    <tr>\n",
       "      <th>19</th>\n",
       "      <td>Quigley282</td>\n",
       "      <td>female</td>\n",
       "      <td>e6c0d4a2-5470-bd53-8161-1a04dd1b62ec</td>\n",
       "      <td>History and physical note</td>\n",
       "    </tr>\n",
       "    <tr>\n",
       "      <th>20</th>\n",
       "      <td>Quigley282</td>\n",
       "      <td>female</td>\n",
       "      <td>ad1d6494-3888-a03b-179e-7a1e5b33369e</td>\n",
       "      <td>History and physical note</td>\n",
       "    </tr>\n",
       "    <tr>\n",
       "      <th>21</th>\n",
       "      <td>Quigley282</td>\n",
       "      <td>female</td>\n",
       "      <td>570ff6a5-112b-108b-5fbc-47ba65de23df</td>\n",
       "      <td>History and physical note</td>\n",
       "    </tr>\n",
       "    <tr>\n",
       "      <th>22</th>\n",
       "      <td>Quigley282</td>\n",
       "      <td>female</td>\n",
       "      <td>2fcb9264-4ecb-8752-b975-96ba775631ab</td>\n",
       "      <td>History and physical note</td>\n",
       "    </tr>\n",
       "    <tr>\n",
       "      <th>23</th>\n",
       "      <td>Quigley282</td>\n",
       "      <td>female</td>\n",
       "      <td>f5fdeeaa-9f83-af3f-2112-33ffcc488432</td>\n",
       "      <td>History and physical note</td>\n",
       "    </tr>\n",
       "    <tr>\n",
       "      <th>24</th>\n",
       "      <td>Quigley282</td>\n",
       "      <td>female</td>\n",
       "      <td>34325ab0-2ace-39da-8dbc-04b480f6c484</td>\n",
       "      <td>History and physical note</td>\n",
       "    </tr>\n",
       "    <tr>\n",
       "      <th>25</th>\n",
       "      <td>Quigley282</td>\n",
       "      <td>female</td>\n",
       "      <td>f610692a-5e98-38ee-a754-be7d2ae58811</td>\n",
       "      <td>History and physical note</td>\n",
       "    </tr>\n",
       "    <tr>\n",
       "      <th>26</th>\n",
       "      <td>Quigley282</td>\n",
       "      <td>female</td>\n",
       "      <td>c30088ed-d577-91bd-eb8b-33475f219613</td>\n",
       "      <td>History and physical note</td>\n",
       "    </tr>\n",
       "    <tr>\n",
       "      <th>27</th>\n",
       "      <td>Quigley282</td>\n",
       "      <td>female</td>\n",
       "      <td>df06a50c-85bc-78f0-904a-fa5f5209c813</td>\n",
       "      <td>History and physical note</td>\n",
       "    </tr>\n",
       "    <tr>\n",
       "      <th>28</th>\n",
       "      <td>Quigley282</td>\n",
       "      <td>female</td>\n",
       "      <td>55426ad8-55bb-22a4-ffd8-cd42d6d0acc6</td>\n",
       "      <td>History and physical note</td>\n",
       "    </tr>\n",
       "    <tr>\n",
       "      <th>29</th>\n",
       "      <td>Quigley282</td>\n",
       "      <td>female</td>\n",
       "      <td>bcc4770e-6776-0d4f-6915-8c631a896158</td>\n",
       "      <td>History and physical note</td>\n",
       "    </tr>\n",
       "    <tr>\n",
       "      <th>30</th>\n",
       "      <td>Quigley282</td>\n",
       "      <td>female</td>\n",
       "      <td>ae990930-50a6-9668-db5d-de327bbadbbd</td>\n",
       "      <td>History and physical note</td>\n",
       "    </tr>\n",
       "    <tr>\n",
       "      <th>31</th>\n",
       "      <td>Quigley282</td>\n",
       "      <td>female</td>\n",
       "      <td>987dcf96-7093-c0eb-acc3-24c33568c316</td>\n",
       "      <td>History and physical note</td>\n",
       "    </tr>\n",
       "    <tr>\n",
       "      <th>32</th>\n",
       "      <td>Quigley282</td>\n",
       "      <td>female</td>\n",
       "      <td>ada56d48-8991-a0a4-f8d6-a2891456b1f9</td>\n",
       "      <td>History and physical note</td>\n",
       "    </tr>\n",
       "    <tr>\n",
       "      <th>33</th>\n",
       "      <td>Quigley282</td>\n",
       "      <td>female</td>\n",
       "      <td>b345872b-245e-4dbd-b79b-afb5ceb7d767</td>\n",
       "      <td>History and physical note</td>\n",
       "    </tr>\n",
       "    <tr>\n",
       "      <th>34</th>\n",
       "      <td>Quigley282</td>\n",
       "      <td>female</td>\n",
       "      <td>1c6e7cf9-201f-e780-be99-265f46c7f8d8</td>\n",
       "      <td>History and physical note</td>\n",
       "    </tr>\n",
       "    <tr>\n",
       "      <th>35</th>\n",
       "      <td>Quigley282</td>\n",
       "      <td>female</td>\n",
       "      <td>b3a57070-5922-ddd5-b7fb-98fb037c677f</td>\n",
       "      <td>History and physical note</td>\n",
       "    </tr>\n",
       "    <tr>\n",
       "      <th>36</th>\n",
       "      <td>Quigley282</td>\n",
       "      <td>female</td>\n",
       "      <td>4cf5ed7d-1647-ac30-b952-b50863c2f1b1</td>\n",
       "      <td>CBC panel - Blood by Automated count</td>\n",
       "    </tr>\n",
       "    <tr>\n",
       "      <th>37</th>\n",
       "      <td>Quigley282</td>\n",
       "      <td>female</td>\n",
       "      <td>080da1c1-16cb-2d1f-853d-fb4e70aeba85</td>\n",
       "      <td>Patient Health Questionnaire 2 item (PHQ-2) [Reported]</td>\n",
       "    </tr>\n",
       "    <tr>\n",
       "      <th>38</th>\n",
       "      <td>Quigley282</td>\n",
       "      <td>female</td>\n",
       "      <td>6f26a93a-748a-698e-f331-f238df1693cc</td>\n",
       "      <td>Alcohol Use Disorder Identification Test - Consumption [AUDIT-C]</td>\n",
       "    </tr>\n",
       "    <tr>\n",
       "      <th>39</th>\n",
       "      <td>Quigley282</td>\n",
       "      <td>female</td>\n",
       "      <td>34368622-55b6-bbaa-decc-e88cd6cc45cc</td>\n",
       "      <td>History and physical note</td>\n",
       "    </tr>\n",
       "    <tr>\n",
       "      <th>40</th>\n",
       "      <td>Quigley282</td>\n",
       "      <td>female</td>\n",
       "      <td>51953883-5903-d865-ed9f-549b21671488</td>\n",
       "      <td>Drug Abuse Screening Test-10 [DAST-10]</td>\n",
       "    </tr>\n",
       "    <tr>\n",
       "      <th>41</th>\n",
       "      <td>Quigley282</td>\n",
       "      <td>female</td>\n",
       "      <td>52afb0e3-e8d3-cd13-eb4a-51294b5c77b8</td>\n",
       "      <td>History and physical note</td>\n",
       "    </tr>\n",
       "    <tr>\n",
       "      <th>42</th>\n",
       "      <td>Quigley282</td>\n",
       "      <td>female</td>\n",
       "      <td>de9da2b9-1e1b-2530-014e-e70e70e77280</td>\n",
       "      <td>History and physical note</td>\n",
       "    </tr>\n",
       "    <tr>\n",
       "      <th>43</th>\n",
       "      <td>Quigley282</td>\n",
       "      <td>female</td>\n",
       "      <td>b1c40516-f494-0fec-083a-79256c61721f</td>\n",
       "      <td>Drug Abuse Screening Test-10 [DAST-10]</td>\n",
       "    </tr>\n",
       "    <tr>\n",
       "      <th>44</th>\n",
       "      <td>Quigley282</td>\n",
       "      <td>female</td>\n",
       "      <td>70c43530-257d-73e7-9d89-0a325091b93c</td>\n",
       "      <td>History and physical note</td>\n",
       "    </tr>\n",
       "    <tr>\n",
       "      <th>45</th>\n",
       "      <td>Quigley282</td>\n",
       "      <td>female</td>\n",
       "      <td>45859b9d-5aba-2e33-dff3-0836635699e6</td>\n",
       "      <td>Respiratory pathogens DNA and RNA panel - Respiratory specimen by NAA with probe detection</td>\n",
       "    </tr>\n",
       "    <tr>\n",
       "      <th>46</th>\n",
       "      <td>Quigley282</td>\n",
       "      <td>female</td>\n",
       "      <td>073fc056-4dd3-8b5f-85eb-a5ec71270f0e</td>\n",
       "      <td>SARS-CoV-2 RNA Pnl Resp NAA+probe</td>\n",
       "    </tr>\n",
       "    <tr>\n",
       "      <th>47</th>\n",
       "      <td>Quigley282</td>\n",
       "      <td>female</td>\n",
       "      <td>f836e280-772f-e361-c96d-78fab314e837</td>\n",
       "      <td>Generalized anxiety disorder 7 item (GAD-7)</td>\n",
       "    </tr>\n",
       "    <tr>\n",
       "      <th>48</th>\n",
       "      <td>Quigley282</td>\n",
       "      <td>female</td>\n",
       "      <td>63101af5-f890-6622-a177-aac99b2e90f8</td>\n",
       "      <td>Patient Health Questionnaire 2 item (PHQ-2) [Reported]</td>\n",
       "    </tr>\n",
       "    <tr>\n",
       "      <th>49</th>\n",
       "      <td>Quigley282</td>\n",
       "      <td>female</td>\n",
       "      <td>bdb4d5a6-12ee-a750-685a-6e40b33409d9</td>\n",
       "      <td>History and physical note</td>\n",
       "    </tr>\n",
       "    <tr>\n",
       "      <th>50</th>\n",
       "      <td>Quigley282</td>\n",
       "      <td>female</td>\n",
       "      <td>b4e7b550-61ad-570e-67fb-09590dfe6c63</td>\n",
       "      <td>History and physical note</td>\n",
       "    </tr>\n",
       "    <tr>\n",
       "      <th>51</th>\n",
       "      <td>Quigley282</td>\n",
       "      <td>female</td>\n",
       "      <td>84b17dab-4c23-55a5-2eb5-d3d3d6cdaf2f</td>\n",
       "      <td>History and physical note</td>\n",
       "    </tr>\n",
       "    <tr>\n",
       "      <th>52</th>\n",
       "      <td>Quigley282</td>\n",
       "      <td>female</td>\n",
       "      <td>31907d2e-f83f-329c-d8dc-070e92ad802b</td>\n",
       "      <td>Patient Health Questionnaire 2 item (PHQ-2) [Reported]</td>\n",
       "    </tr>\n",
       "    <tr>\n",
       "      <th>53</th>\n",
       "      <td>Quigley282</td>\n",
       "      <td>female</td>\n",
       "      <td>382b2591-3b7c-68b3-eb3e-7999e7cd7e07</td>\n",
       "      <td>History and physical note</td>\n",
       "    </tr>\n",
       "    <tr>\n",
       "      <th>54</th>\n",
       "      <td>Quigley282</td>\n",
       "      <td>female</td>\n",
       "      <td>5dcfd041-a7f3-343f-dee5-5a64528996a9</td>\n",
       "      <td>History and physical note</td>\n",
       "    </tr>\n",
       "    <tr>\n",
       "      <th>55</th>\n",
       "      <td>Quigley282</td>\n",
       "      <td>female</td>\n",
       "      <td>9d863a80-1ef5-3be0-f628-6529851be3f1</td>\n",
       "      <td>History and physical note</td>\n",
       "    </tr>\n",
       "    <tr>\n",
       "      <th>56</th>\n",
       "      <td>Quigley282</td>\n",
       "      <td>female</td>\n",
       "      <td>80aa9d3b-4c2e-37c8-0b6f-ae90975f6d09</td>\n",
       "      <td>History and physical note</td>\n",
       "    </tr>\n",
       "    <tr>\n",
       "      <th>57</th>\n",
       "      <td>Quigley282</td>\n",
       "      <td>female</td>\n",
       "      <td>237c910b-319e-f9b7-28fa-aa30f380955d</td>\n",
       "      <td>Basic metabolic 2000 panel - Serum or Plasma</td>\n",
       "    </tr>\n",
       "    <tr>\n",
       "      <th>58</th>\n",
       "      <td>Quigley282</td>\n",
       "      <td>female</td>\n",
       "      <td>f93fa66b-4468-f9b0-b99e-7750a2eae288</td>\n",
       "      <td>Urinalysis macro (dipstick) panel - Urine</td>\n",
       "    </tr>\n",
       "    <tr>\n",
       "      <th>59</th>\n",
       "      <td>Quigley282</td>\n",
       "      <td>female</td>\n",
       "      <td>1c2059a4-ea3d-5d39-cc8f-a97d6f75bc54</td>\n",
       "      <td>CBC panel - Blood by Automated count</td>\n",
       "    </tr>\n",
       "    <tr>\n",
       "      <th>60</th>\n",
       "      <td>Quigley282</td>\n",
       "      <td>female</td>\n",
       "      <td>d37eeb0c-96bb-919c-f26d-e9474f803363</td>\n",
       "      <td>Generalized anxiety disorder 7 item (GAD-7)</td>\n",
       "    </tr>\n",
       "    <tr>\n",
       "      <th>61</th>\n",
       "      <td>Quigley282</td>\n",
       "      <td>female</td>\n",
       "      <td>bbe8964c-e8af-4b1d-f520-512594fcb111</td>\n",
       "      <td>Humiliation, Afraid, Rape, and Kick questionnaire [HARK]</td>\n",
       "    </tr>\n",
       "    <tr>\n",
       "      <th>62</th>\n",
       "      <td>Quigley282</td>\n",
       "      <td>female</td>\n",
       "      <td>4122d930-4ad3-7129-6de7-ae3275e7b67e</td>\n",
       "      <td>History and physical note</td>\n",
       "    </tr>\n",
       "    <tr>\n",
       "      <th>63</th>\n",
       "      <td>Quigley282</td>\n",
       "      <td>female</td>\n",
       "      <td>8dab4196-e63f-6873-2fd5-eafd0ce779cc</td>\n",
       "      <td>History and physical note</td>\n",
       "    </tr>\n",
       "  </tbody>\n",
       "</table>\n",
       "</div>"
      ],
      "text/plain": [
       "    familyName  gender                                    id  \\\n",
       "0   Quigley282  female  227d8a79-b2ba-7b22-ccd7-1423b710a3ac   \n",
       "1   Quigley282  female  f1f832e7-c2bc-f240-8a92-d32d25459ce6   \n",
       "2   Quigley282  female  96acd66f-3d6b-365b-9f59-2784921e49af   \n",
       "3   Quigley282  female  5dd43d62-1632-167b-dee9-c784c0c878e5   \n",
       "4   Quigley282  female  47440459-5430-6964-8c99-311e29329478   \n",
       "5   Quigley282  female  3e91bf76-9402-fd4c-c3c4-dc45c37b6d2a   \n",
       "6   Quigley282  female  76a0ed11-fc5e-da36-c3f0-0fc340b42d02   \n",
       "7   Quigley282  female  94339298-b8b9-8630-1ddd-96eee144308a   \n",
       "8   Quigley282  female  36d4444f-4cba-e8b6-fbe5-999a7df02940   \n",
       "9   Quigley282  female  84ed271c-f040-7873-ca42-53e1c542a387   \n",
       "10  Quigley282  female  eadbb060-1f45-4ba5-7437-565e6fa194b6   \n",
       "11  Quigley282  female  299e2c13-527b-ba11-3fb5-29cd9979e9ee   \n",
       "12  Quigley282  female  86e98b4d-49e2-719d-4f7c-319363025f6b   \n",
       "13  Quigley282  female  f78d8606-889f-91f2-2018-306012499649   \n",
       "14  Quigley282  female  8e89949d-2a6b-a655-24eb-ff1e3ff5c900   \n",
       "15  Quigley282  female  c0dfe5f1-15e4-3774-bac6-3b53348ac08b   \n",
       "16  Quigley282  female  bc30b65c-de5a-8b60-0193-3f0783f32601   \n",
       "17  Quigley282  female  ff922f48-87a7-23ca-4ac3-6489126c3520   \n",
       "18  Quigley282  female  fd9ce7e9-15e3-dd86-87bf-927f784e5e9c   \n",
       "19  Quigley282  female  e6c0d4a2-5470-bd53-8161-1a04dd1b62ec   \n",
       "20  Quigley282  female  ad1d6494-3888-a03b-179e-7a1e5b33369e   \n",
       "21  Quigley282  female  570ff6a5-112b-108b-5fbc-47ba65de23df   \n",
       "22  Quigley282  female  2fcb9264-4ecb-8752-b975-96ba775631ab   \n",
       "23  Quigley282  female  f5fdeeaa-9f83-af3f-2112-33ffcc488432   \n",
       "24  Quigley282  female  34325ab0-2ace-39da-8dbc-04b480f6c484   \n",
       "25  Quigley282  female  f610692a-5e98-38ee-a754-be7d2ae58811   \n",
       "26  Quigley282  female  c30088ed-d577-91bd-eb8b-33475f219613   \n",
       "27  Quigley282  female  df06a50c-85bc-78f0-904a-fa5f5209c813   \n",
       "28  Quigley282  female  55426ad8-55bb-22a4-ffd8-cd42d6d0acc6   \n",
       "29  Quigley282  female  bcc4770e-6776-0d4f-6915-8c631a896158   \n",
       "30  Quigley282  female  ae990930-50a6-9668-db5d-de327bbadbbd   \n",
       "31  Quigley282  female  987dcf96-7093-c0eb-acc3-24c33568c316   \n",
       "32  Quigley282  female  ada56d48-8991-a0a4-f8d6-a2891456b1f9   \n",
       "33  Quigley282  female  b345872b-245e-4dbd-b79b-afb5ceb7d767   \n",
       "34  Quigley282  female  1c6e7cf9-201f-e780-be99-265f46c7f8d8   \n",
       "35  Quigley282  female  b3a57070-5922-ddd5-b7fb-98fb037c677f   \n",
       "36  Quigley282  female  4cf5ed7d-1647-ac30-b952-b50863c2f1b1   \n",
       "37  Quigley282  female  080da1c1-16cb-2d1f-853d-fb4e70aeba85   \n",
       "38  Quigley282  female  6f26a93a-748a-698e-f331-f238df1693cc   \n",
       "39  Quigley282  female  34368622-55b6-bbaa-decc-e88cd6cc45cc   \n",
       "40  Quigley282  female  51953883-5903-d865-ed9f-549b21671488   \n",
       "41  Quigley282  female  52afb0e3-e8d3-cd13-eb4a-51294b5c77b8   \n",
       "42  Quigley282  female  de9da2b9-1e1b-2530-014e-e70e70e77280   \n",
       "43  Quigley282  female  b1c40516-f494-0fec-083a-79256c61721f   \n",
       "44  Quigley282  female  70c43530-257d-73e7-9d89-0a325091b93c   \n",
       "45  Quigley282  female  45859b9d-5aba-2e33-dff3-0836635699e6   \n",
       "46  Quigley282  female  073fc056-4dd3-8b5f-85eb-a5ec71270f0e   \n",
       "47  Quigley282  female  f836e280-772f-e361-c96d-78fab314e837   \n",
       "48  Quigley282  female  63101af5-f890-6622-a177-aac99b2e90f8   \n",
       "49  Quigley282  female  bdb4d5a6-12ee-a750-685a-6e40b33409d9   \n",
       "50  Quigley282  female  b4e7b550-61ad-570e-67fb-09590dfe6c63   \n",
       "51  Quigley282  female  84b17dab-4c23-55a5-2eb5-d3d3d6cdaf2f   \n",
       "52  Quigley282  female  31907d2e-f83f-329c-d8dc-070e92ad802b   \n",
       "53  Quigley282  female  382b2591-3b7c-68b3-eb3e-7999e7cd7e07   \n",
       "54  Quigley282  female  5dcfd041-a7f3-343f-dee5-5a64528996a9   \n",
       "55  Quigley282  female  9d863a80-1ef5-3be0-f628-6529851be3f1   \n",
       "56  Quigley282  female  80aa9d3b-4c2e-37c8-0b6f-ae90975f6d09   \n",
       "57  Quigley282  female  237c910b-319e-f9b7-28fa-aa30f380955d   \n",
       "58  Quigley282  female  f93fa66b-4468-f9b0-b99e-7750a2eae288   \n",
       "59  Quigley282  female  1c2059a4-ea3d-5d39-cc8f-a97d6f75bc54   \n",
       "60  Quigley282  female  d37eeb0c-96bb-919c-f26d-e9474f803363   \n",
       "61  Quigley282  female  bbe8964c-e8af-4b1d-f520-512594fcb111   \n",
       "62  Quigley282  female  4122d930-4ad3-7129-6de7-ae3275e7b67e   \n",
       "63  Quigley282  female  8dab4196-e63f-6873-2fd5-eafd0ce779cc   \n",
       "\n",
       "                                                                         diagnosticReportLabel  \n",
       "0                                                                    History and physical note  \n",
       "1                                                                    History and physical note  \n",
       "2                                                                    History and physical note  \n",
       "3                                                                    History and physical note  \n",
       "4                                                                    History and physical note  \n",
       "5                                                  Generalized anxiety disorder 7 item (GAD-7)  \n",
       "6                                                                    History and physical note  \n",
       "7                                                                    History and physical note  \n",
       "8                                                                    History and physical note  \n",
       "9                                                                    History and physical note  \n",
       "10                                                 Generalized anxiety disorder 7 item (GAD-7)  \n",
       "11                                      Patient Health Questionnaire 2 item (PHQ-2) [Reported]  \n",
       "12                                      Patient Health Questionnaire 2 item (PHQ-2) [Reported]  \n",
       "13                                                                   History and physical note  \n",
       "14                                                                   History and physical note  \n",
       "15                                    Humiliation, Afraid, Rape, and Kick questionnaire [HARK]  \n",
       "16                                                                   History and physical note  \n",
       "17                                                                   History and physical note  \n",
       "18                                                                   History and physical note  \n",
       "19                                                                   History and physical note  \n",
       "20                                                                   History and physical note  \n",
       "21                                                                   History and physical note  \n",
       "22                                                                   History and physical note  \n",
       "23                                                                   History and physical note  \n",
       "24                                                                   History and physical note  \n",
       "25                                                                   History and physical note  \n",
       "26                                                                   History and physical note  \n",
       "27                                                                   History and physical note  \n",
       "28                                                                   History and physical note  \n",
       "29                                                                   History and physical note  \n",
       "30                                                                   History and physical note  \n",
       "31                                                                   History and physical note  \n",
       "32                                                                   History and physical note  \n",
       "33                                                                   History and physical note  \n",
       "34                                                                   History and physical note  \n",
       "35                                                                   History and physical note  \n",
       "36                                                        CBC panel - Blood by Automated count  \n",
       "37                                      Patient Health Questionnaire 2 item (PHQ-2) [Reported]  \n",
       "38                            Alcohol Use Disorder Identification Test - Consumption [AUDIT-C]  \n",
       "39                                                                   History and physical note  \n",
       "40                                                      Drug Abuse Screening Test-10 [DAST-10]  \n",
       "41                                                                   History and physical note  \n",
       "42                                                                   History and physical note  \n",
       "43                                                      Drug Abuse Screening Test-10 [DAST-10]  \n",
       "44                                                                   History and physical note  \n",
       "45  Respiratory pathogens DNA and RNA panel - Respiratory specimen by NAA with probe detection  \n",
       "46                                                           SARS-CoV-2 RNA Pnl Resp NAA+probe  \n",
       "47                                                 Generalized anxiety disorder 7 item (GAD-7)  \n",
       "48                                      Patient Health Questionnaire 2 item (PHQ-2) [Reported]  \n",
       "49                                                                   History and physical note  \n",
       "50                                                                   History and physical note  \n",
       "51                                                                   History and physical note  \n",
       "52                                      Patient Health Questionnaire 2 item (PHQ-2) [Reported]  \n",
       "53                                                                   History and physical note  \n",
       "54                                                                   History and physical note  \n",
       "55                                                                   History and physical note  \n",
       "56                                                                   History and physical note  \n",
       "57                                                Basic metabolic 2000 panel - Serum or Plasma  \n",
       "58                                                   Urinalysis macro (dipstick) panel - Urine  \n",
       "59                                                        CBC panel - Blood by Automated count  \n",
       "60                                                 Generalized anxiety disorder 7 item (GAD-7)  \n",
       "61                                    Humiliation, Afraid, Rape, and Kick questionnaire [HARK]  \n",
       "62                                                                   History and physical note  \n",
       "63                                                                   History and physical note  "
      ]
     },
     "metadata": {},
     "output_type": "display_data"
    },
    {
     "name": "stdout",
     "output_type": "stream",
     "text": [
      "Deployment cancellation in progress...\n",
      "Job termination in progress...\n",
      "Execution done\n",
      "Deployment cancellation in progress...\n",
      "Job termination in progress...\n",
      "Deployment cancellation in progress...\n",
      "Job termination in progress...\n"
     ]
    }
   ],
   "source": [
    "%%flink_execute_sql\n",
    "SELECT p.name[1].family as familyName, p.gender, dr.id, dr.code.coding[1].display as diagnosticReportLabel\n",
    "FROM diagnosticReport dr\n",
    "JOIN patient p ON CONCAT('urn:uuid:', p.id) = dr.subject.reference"
   ]
  },
  {
   "cell_type": "markdown",
   "metadata": {},
   "source": [
    "## Insert into Postgres"
   ]
  },
  {
   "cell_type": "markdown",
   "metadata": {},
   "source": [
    "Create table in Postgres (replace container name by yours)\n",
    "\n",
    "```bash\n",
    "docker exec -it flink-sql_tutorial-db-1 psql -U example\n",
    "> create table patient(identifier VARCHAR, familyName VARCHAR, gender VARCHAR, diagnosticReportLabel VARCHAR, PRIMARY KEY(identifier));\n",
    "```"
   ]
  },
  {
   "cell_type": "code",
   "execution_count": 13,
   "metadata": {},
   "outputs": [
    {
     "name": "stdout",
     "output_type": "stream",
     "text": [
      "Job starting...\n",
      "Job started\n",
      "Execution successful\n"
     ]
    }
   ],
   "source": [
    "%%flink_execute_sql\n",
    "CREATE TABLE patient_psql (\n",
    "  `identifier` STRING,\n",
    "  `familyName` STRING,\n",
    "  `gender` STRING,\n",
    "  `diagnosticReportLabel` STRING,\n",
    "  PRIMARY KEY (`identifier`) NOT ENFORCED\n",
    ") WITH (\n",
    "  'connector' = 'jdbc',\n",
    "  'url' = 'jdbc:postgresql://db:5432/example',\n",
    "  'table-name' = 'public.patient',\n",
    "  'username' = 'example',\n",
    "  'password' = 'example'  \n",
    ")"
   ]
  },
  {
   "cell_type": "code",
   "execution_count": 14,
   "metadata": {},
   "outputs": [
    {
     "name": "stdout",
     "output_type": "stream",
     "text": [
      "This job runs in a background, please either wait or interrupt its execution before continuing\n"
     ]
    },
    {
     "data": {
      "application/vnd.jupyter.widget-view+json": {
       "model_id": "8246b74c5ae64cd09be32a723c0142f1",
       "version_major": 2,
       "version_minor": 0
      },
      "text/plain": [
       "HBox(children=(Button(button_style='warning', description='Interrupt', icon='times', style=ButtonStyle(), tool…"
      ]
     },
     "metadata": {},
     "output_type": "display_data"
    },
    {
     "name": "stdout",
     "output_type": "stream",
     "text": [
      "Job starting...\n",
      "Execution failed\n"
     ]
    },
    {
     "name": "stderr",
     "output_type": "stream",
     "text": [
      "An error occurred while calling o36.executeSql.\n",
      ": org.apache.flink.table.api.ValidationException: Unable to create a sink for writing table 'default_catalog.default_database.patient_psql'.\n",
      "\n",
      "Table options are:\n",
      "\n",
      "'connector'='jdbc'\n",
      "'password'='******'\n",
      "'table-name'='public.patient'\n",
      "'url'='jdbc:postgresql://db:5432/example'\n",
      "'username'='example'\n",
      "\tat org.apache.flink.table.factories.FactoryUtil.createDynamicTableSink(FactoryUtil.java:322)\n",
      "\tat org.apache.flink.table.planner.delegation.PlannerBase.getTableSink(PlannerBase.scala:454)\n",
      "\tat org.apache.flink.table.planner.delegation.PlannerBase.translateToRel(PlannerBase.scala:231)\n",
      "\tat org.apache.flink.table.planner.delegation.PlannerBase.$anonfun$translate$1(PlannerBase.scala:181)\n",
      "\tat scala.collection.TraversableLike.$anonfun$map$1(TraversableLike.scala:233)\n",
      "\tat scala.collection.Iterator.foreach(Iterator.scala:937)\n",
      "\tat scala.collection.Iterator.foreach$(Iterator.scala:937)\n",
      "\tat scala.collection.AbstractIterator.foreach(Iterator.scala:1425)\n",
      "\tat scala.collection.IterableLike.foreach(IterableLike.scala:70)\n",
      "\tat scala.collection.IterableLike.foreach$(IterableLike.scala:69)\n",
      "\tat scala.collection.AbstractIterable.foreach(Iterable.scala:54)\n",
      "\tat scala.collection.TraversableLike.map(TraversableLike.scala:233)\n",
      "\tat scala.collection.TraversableLike.map$(TraversableLike.scala:226)\n",
      "\tat scala.collection.AbstractTraversable.map(Traversable.scala:104)\n",
      "\tat org.apache.flink.table.planner.delegation.PlannerBase.translate(PlannerBase.scala:181)\n",
      "\tat org.apache.flink.table.api.internal.TableEnvironmentImpl.translate(TableEnvironmentImpl.java:1277)\n",
      "\tat org.apache.flink.table.api.internal.TableEnvironmentImpl.executeInternal(TableEnvironmentImpl.java:862)\n",
      "\tat org.apache.flink.table.api.internal.TableEnvironmentImpl.executeInternal(TableEnvironmentImpl.java:1097)\n",
      "\tat org.apache.flink.table.api.internal.TableEnvironmentImpl.executeSql(TableEnvironmentImpl.java:735)\n",
      "\tat java.base/jdk.internal.reflect.DirectMethodHandleAccessor.invoke(DirectMethodHandleAccessor.java:103)\n",
      "\tat java.base/java.lang.reflect.Method.invoke(Method.java:580)\n",
      "\tat org.apache.flink.api.python.shaded.py4j.reflection.MethodInvoker.invoke(MethodInvoker.java:244)\n",
      "\tat org.apache.flink.api.python.shaded.py4j.reflection.ReflectionEngine.invoke(ReflectionEngine.java:374)\n",
      "\tat org.apache.flink.api.python.shaded.py4j.Gateway.invoke(Gateway.java:282)\n",
      "\tat org.apache.flink.api.python.shaded.py4j.commands.AbstractCommand.invokeMethod(AbstractCommand.java:132)\n",
      "\tat org.apache.flink.api.python.shaded.py4j.commands.CallCommand.execute(CallCommand.java:79)\n",
      "\tat org.apache.flink.api.python.shaded.py4j.GatewayConnection.run(GatewayConnection.java:238)\n",
      "\tat java.base/java.lang.Thread.run(Thread.java:1583)\n",
      "Caused by: org.apache.flink.table.api.ValidationException: Cannot discover a connector using option: 'connector'='jdbc'\n",
      "\tat org.apache.flink.table.factories.FactoryUtil.enrichNoMatchingConnectorError(FactoryUtil.java:798)\n",
      "\tat org.apache.flink.table.factories.FactoryUtil.discoverTableFactory(FactoryUtil.java:772)\n",
      "\tat org.apache.flink.table.factories.FactoryUtil.createDynamicTableSink(FactoryUtil.java:317)\n",
      "\t... 27 more\n",
      "Caused by: org.apache.flink.table.api.ValidationException: Could not find any factory for identifier 'jdbc' that implements 'org.apache.flink.table.factories.DynamicTableFactory' in the classpath.\n",
      "\n",
      "Available factory identifiers are:\n",
      "\n",
      "blackhole\n",
      "datagen\n",
      "filesystem\n",
      "kafka\n",
      "print\n",
      "python-input-format\n",
      "upsert-kafka\n",
      "\tat org.apache.flink.table.factories.FactoryUtil.discoverFactory(FactoryUtil.java:608)\n",
      "\tat org.apache.flink.table.factories.FactoryUtil.enrichNoMatchingConnectorError(FactoryUtil.java:794)\n",
      "\t... 29 more\n",
      "\n"
     ]
    },
    {
     "name": "stdout",
     "output_type": "stream",
     "text": [
      "Deployment cancellation in progress...\n",
      "Job termination in progress...\n"
     ]
    }
   ],
   "source": [
    "%%flink_execute_sql\n",
    "INSERT INTO patient_psql\n",
    "SELECT dr.id, p.name[1].family as familyName, p.gender, dr.code.coding[1].display as diagnosticReportLabel\n",
    "FROM diagnosticReport dr\n",
    "JOIN patient p ON CONCAT('urn:uuid:', p.id) = dr.subject.reference"
   ]
  },
  {
   "cell_type": "code",
   "execution_count": null,
   "metadata": {},
   "outputs": [],
   "source": []
  }
 ],
 "metadata": {
  "kernelspec": {
   "display_name": "Python 3",
   "language": "python",
   "name": "python3"
  },
  "language_info": {
   "codemirror_mode": {
    "name": "ipython",
    "version": 3
   },
   "file_extension": ".py",
   "mimetype": "text/x-python",
   "name": "python",
   "nbconvert_exporter": "python",
   "pygments_lexer": "ipython3",
   "version": "3.10.14"
  }
 },
 "nbformat": 4,
 "nbformat_minor": 2
}
