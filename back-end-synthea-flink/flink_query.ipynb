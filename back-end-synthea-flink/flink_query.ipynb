{
 "cells": [
  {
   "cell_type": "code",
   "execution_count": null,
   "metadata": {
    "ExecuteTime": {
     "end_time": "2024-06-26T11:19:36.523138Z",
     "start_time": "2024-06-26T11:19:36.517633Z"
    }
   },
   "outputs": [],
   "source": [
    "%env JAVA_TOOL_OPTIONS='--add-opens=java.base/java.util=ALL-UNNAMED --add-opens=java.base/java.lang=ALL-UNNAMED'\n",
    "%env FLINK_CONF_DIR=/Users/lgfquentin/dev/medical-dashboard/back-end-synthea-flink/config"
   ]
  },
  {
   "cell_type": "code",
   "execution_count": null,
   "metadata": {
    "ExecuteTime": {
     "end_time": "2024-06-26T11:19:38.565030Z",
     "start_time": "2024-06-26T11:19:38.561584Z"
    }
   },
   "outputs": [],
   "source": [
    "%load_ext streaming_jupyter_integrations.magics"
   ]
  },
  {
   "cell_type": "code",
   "execution_count": null,
   "metadata": {
    "ExecuteTime": {
     "end_time": "2024-06-26T11:19:40.382765Z",
     "start_time": "2024-06-26T11:19:39.250514Z"
    }
   },
   "outputs": [],
   "source": [
    "%flink_connect --execution-target remote --remote-hostname localhost --remote-port 8081\n",
    "#%flink_connect "
   ]
  },
  {
   "cell_type": "code",
   "execution_count": null,
   "metadata": {
    "ExecuteTime": {
     "end_time": "2024-06-26T11:19:42.460774Z",
     "start_time": "2024-06-26T11:19:42.327388Z"
    }
   },
   "outputs": [],
   "source": [
    "%%flink_execute_sql\n",
    "CREATE TABLE patient (\n",
    "  `id` STRING,\n",
    "  `name` ROW(`family` STRING, `given` STRING ARRAY) ARRAY,\n",
    "  `gender` STRING,\n",
    "  `birthDate` STRING,\n",
    "  `telecom` ROW ( `value` STRING ) ARRAY,\n",
    "  `address` ROW (\n",
    "    `line` STRING ARRAY,\n",
    "    `city` STRING,\n",
    "    `state` STRING,\n",
    "    `postalCode` STRING,\n",
    "    `country` STRING\n",
    "  ) ARRAY,\n",
    "  `maritalStatus` ROW (\n",
    "    `text` STRING\n",
    "  )\n",
    ") WITH (\n",
    "  'connector' = 'kafka',\n",
    "  'topic' = 'Patient',\n",
    "  'properties.bootstrap.servers' = 'kafka-edge1:9092',\n",
    "  'properties.group.id' = 'testGroup',\n",
    "  'scan.startup.mode' = 'earliest-offset',\n",
    "  'format' = 'json'\n",
    ")"
   ]
  },
  {
   "cell_type": "code",
   "execution_count": null,
   "metadata": {
    "ExecuteTime": {
     "end_time": "2024-06-26T11:19:43.954054Z",
     "start_time": "2024-06-26T11:19:43.906690Z"
    }
   },
   "outputs": [],
   "source": [
    "%%flink_execute_sql\n",
    "CREATE TABLE diagnosticReport (\n",
    "  `id` STRING,\n",
    "  `subject` ROW (`reference` STRING),\n",
    "  `code` ROW(`coding` ROW(`display` STRING) ARRAY)\n",
    ") WITH (\n",
    "  'connector' = 'kafka',\n",
    "  'topic' = 'DiagnosticReport',\n",
    "  'properties.bootstrap.servers' = 'kafka-edge1:9092',\n",
    "  'properties.group.id' = 'testGroup',\n",
    "  'scan.startup.mode' = 'earliest-offset',\n",
    "  'format' = 'json'\n",
    ")"
   ]
  },
  {
   "cell_type": "code",
   "execution_count": null,
   "metadata": {
    "ExecuteTime": {
     "end_time": "2024-06-26T11:19:44.924361Z",
     "start_time": "2024-06-26T11:19:44.860806Z"
    }
   },
   "outputs": [],
   "source": [
    "%%flink_execute_sql\n",
    "CREATE OR REPLACE TABLE hospital (\n",
    "  `id` STRING,\n",
    "  `identifier` ROW (`value` STRING) ARRAY,\n",
    "  `status` STRING,\n",
    "  `name` STRING,\n",
    "  `telecom` ROW (`system` STRING, `value` STRING) ARRAY,\n",
    "  `address` ROW (\n",
    "    `line` STRING ARRAY,\n",
    "    `city` STRING,\n",
    "    `state` STRING,\n",
    "    `postalCode` STRING,\n",
    "    `country` STRING\n",
    "  ),\n",
    "  `position` ROW (\n",
    "    `longitude` DOUBLE,\n",
    "    `latitude` DOUBLE\n",
    "  ),\n",
    "  `managingOrganization` ROW (\n",
    "    `identifier` ROW (`value` STRING)\n",
    "  )\n",
    ") WITH (\n",
    "  'connector' = 'kafka',\n",
    "  'topic' = 'Location',\n",
    "  'properties.bootstrap.servers' = 'kafka-edge1:9092',\n",
    "  'properties.group.id' = 'testGroup',\n",
    "  'scan.startup.mode' = 'earliest-offset',\n",
    "  'format' = 'json'\n",
    ")"
   ]
  },
  {
   "cell_type": "code",
   "execution_count": null,
   "metadata": {
    "ExecuteTime": {
     "end_time": "2024-06-26T11:19:45.919393Z",
     "start_time": "2024-06-26T11:19:45.864792Z"
    }
   },
   "outputs": [],
   "source": [
    "%%flink_execute_sql\n",
    "CREATE TABLE practitionerRole (\n",
    "  `id` STRING,\n",
    "  `practitioner` ROW (\n",
    "    `identifier` ROW (\n",
    "      `value` STRING\n",
    "    )\n",
    "  ),\n",
    "  `organization` ROW (\n",
    "    `identifier` ROW (\n",
    "      `value` STRING\n",
    "    )\n",
    "  ),\n",
    "  `specialty` ROW (\n",
    "    `text` STRING\n",
    "  ) ARRAY\n",
    ") WITH (\n",
    "  'connector' = 'kafka',\n",
    "  'topic' = 'PractitionerRole',\n",
    "  'properties.bootstrap.servers' = 'kafka-edge1:9092',\n",
    "  'properties.group.id' = 'testGroup',\n",
    "  'scan.startup.mode' = 'earliest-offset',\n",
    "  'format' = 'json'\n",
    ")"
   ]
  },
  {
   "cell_type": "code",
   "execution_count": null,
   "metadata": {
    "ExecuteTime": {
     "end_time": "2024-06-26T11:19:46.944202Z",
     "start_time": "2024-06-26T11:19:46.886001Z"
    }
   },
   "outputs": [],
   "source": [
    "%%flink_execute_sql\n",
    "CREATE TABLE practitioner (\n",
    "  `identifier` ROW (\n",
    "    `value` STRING\n",
    "  ) ARRAY,\n",
    "  `active` BOOLEAN,\n",
    "  `name` ROW (\n",
    "    `family` STRING,\n",
    "    `given` STRING ARRAY\n",
    "  ) ARRAY,\n",
    "  `telecom` ROW (\n",
    "    `value` STRING\n",
    "  ) ARRAY,\n",
    "  `address` ROW (\n",
    "    `line` STRING ARRAY,\n",
    "    `city` STRING,\n",
    "    `state` STRING,\n",
    "    `postalCode` STRING,\n",
    "    `country` STRING\n",
    "  ) ARRAY,\n",
    "  `gender` STRING\n",
    ") WITH (\n",
    "  'connector' = 'kafka',\n",
    "  'topic' = 'Practitioner',\n",
    "  'properties.bootstrap.servers' = 'kafka-edge1:9092',\n",
    "  'properties.group.id' = 'testGroup',\n",
    "  'scan.startup.mode' = 'earliest-offset',\n",
    "  'format' = 'json'\n",
    ")"
   ]
  },
  {
   "cell_type": "code",
   "execution_count": null,
   "metadata": {
    "ExecuteTime": {
     "end_time": "2024-06-26T11:19:47.644250Z",
     "start_time": "2024-06-26T11:19:47.587440Z"
    }
   },
   "outputs": [],
   "source": [
    "%%flink_execute_sql\n",
    "CREATE TABLE encounter (\n",
    "  `id` STRING,\n",
    "  `status` STRING,\n",
    "  `type` ROW (\n",
    "    `coding` ROW (\n",
    "      `code` STRING,\n",
    "      `display` STRING\n",
    "    ) ARRAY  ) ARRAY,\n",
    "  `subject` ROW (\n",
    "    `reference` STRING,\n",
    "    `display` STRING\n",
    "  ),\n",
    "  `participant` ROW (\n",
    "    `individual` ROW (\n",
    "      `reference` STRING,\n",
    "      `display` STRING\n",
    "    )\n",
    "  ) ARRAY,\n",
    "  `period` ROW (\n",
    "    `start` STRING,\n",
    "    `end` STRING\n",
    "  ),\n",
    "  `location` ROW (\n",
    "    `location` ROW (\n",
    "      `reference` STRING,\n",
    "      `display` STRING\n",
    "    )\n",
    "  ) ARRAY\n",
    ") WITH (\n",
    "  'connector' = 'kafka',\n",
    "  'topic' = 'Encounter',\n",
    "  'properties.bootstrap.servers' = 'kafka-edge1:9092',\n",
    "  'properties.group.id' = 'testGroup',\n",
    "  'scan.startup.mode' = 'earliest-offset',\n",
    "  'format' = 'json'\n",
    ")"
   ]
  },
  {
   "cell_type": "code",
   "execution_count": null,
   "metadata": {
    "ExecuteTime": {
     "end_time": "2024-06-26T11:19:49.273062Z",
     "start_time": "2024-06-26T11:19:49.263112Z"
    }
   },
   "outputs": [],
   "source": [
    "%%flink_execute_sql\n",
    "SHOW TABLES"
   ]
  },
  {
   "cell_type": "code",
   "execution_count": null,
   "metadata": {},
   "outputs": [],
   "source": [
    "%%flink_execute_sql\n",
    "SELECT * FROM patient"
   ]
  },
  {
   "cell_type": "code",
   "execution_count": null,
   "metadata": {},
   "outputs": [],
   "source": [
    "%%flink_execute_sql\n",
    "SELECT * FROM diagnosticReport"
   ]
  },
  {
   "cell_type": "code",
   "execution_count": null,
   "metadata": {},
   "outputs": [],
   "source": [
    "%%flink_execute_sql\n",
    "SELECT * FROM hospital"
   ]
  },
  {
   "cell_type": "code",
   "execution_count": null,
   "metadata": {},
   "outputs": [],
   "source": [
    "%%flink_execute_sql\n",
    "SELECT * FROM practitioner"
   ]
  },
  {
   "cell_type": "code",
   "execution_count": null,
   "metadata": {},
   "outputs": [],
   "source": [
    "%%flink_execute_sql\n",
    "SELECT * FROM practitionerRole"
   ]
  },
  {
   "cell_type": "code",
   "execution_count": null,
   "metadata": {},
   "outputs": [],
   "source": [
    "%%flink_execute_sql\n",
    "SELECT * FROM encounter"
   ]
  },
  {
   "cell_type": "code",
   "execution_count": null,
   "metadata": {},
   "outputs": [],
   "source": [
    "%%flink_execute_sql\n",
    "SELECT id, name[1].family as familyName, gender FROM patient limit 5"
   ]
  },
  {
   "cell_type": "code",
   "execution_count": null,
   "metadata": {},
   "outputs": [],
   "source": [
    "%%flink_execute_sql\n",
    "SELECT id,subject.reference, code.coding[1].display as name FROM diagnosticReport limit 5"
   ]
  },
  {
   "cell_type": "code",
   "execution_count": null,
   "metadata": {},
   "outputs": [],
   "source": [
    "%%flink_execute_sql\n",
    "SELECT p.name[1].family as familyName, p.gender, dr.id, dr.code.coding[1].display as diagnosticReportLabel\n",
    "FROM diagnosticReport dr\n",
    "JOIN patient p ON CONCAT('urn:uuid:', p.id) = dr.subject.reference"
   ]
  },
  {
   "cell_type": "markdown",
   "metadata": {},
   "source": [
    "## Insert into Postgres"
   ]
  },
  {
   "cell_type": "markdown",
   "metadata": {},
   "source": [
    "Create table in Postgres (replace container name by yours)\n",
    "\n",
    "```bash\n",
    "docker exec -it flink-sql_tutorial-db-1 psql -U example\n",
    "> create table patient(identifier VARCHAR, familyName VARCHAR, gender VARCHAR, diagnosticReportLabel VARCHAR, PRIMARY KEY(identifier));\n",
    "```"
   ]
  },
  {
   "cell_type": "code",
   "execution_count": null,
   "metadata": {},
   "outputs": [],
   "source": [
    "%%flink_execute_sql\n",
    "CREATE TABLE hospital_psql (\n",
    "  `id_organization` STRING,\n",
    "  `id_location` STRING,\n",
    "  `status` STRING,\n",
    "  `name` STRING,\n",
    "  `telecom` STRING,\n",
    "  `address_line` STRING,\n",
    "  `city` STRING,\n",
    "  `state` STRING,\n",
    "  `postalCode` STRING,\n",
    "  `country` STRING,\n",
    "  `longitude` DOUBLE,\n",
    "  `latitude` DOUBLE,\n",
    "  PRIMARY KEY (`id_organization`) NOT ENFORCED\n",
    ") WITH (\n",
    "  'connector' = 'jdbc',\n",
    "  'url' = 'jdbc:postgresql://db:5432/example',\n",
    "  'table-name' = 'public.hospital',\n",
    "  'username' = 'example',\n",
    "  'password' = 'example'\n",
    ");\n"
   ]
  },
  {
   "cell_type": "code",
   "execution_count": null,
   "metadata": {},
   "outputs": [],
   "source": [
    "%%flink_execute_sql\n",
    "CREATE TABLE practitioner_psql (\n",
    "  `identifier` STRING,\n",
    "  `name` STRING,\n",
    "  `email` STRING,\n",
    "  `adress` STRING,\n",
    "  `city` STRING,\n",
    "  `state` STRING,\n",
    "  `postalCode` STRING,\n",
    "  `country` STRING,\n",
    "  `gender` STRING,\n",
    "  `role` STRING,\n",
    "  `id_organization` STRING,\n",
    "  PRIMARY KEY (`identifier`) NOT ENFORCED\n",
    ") WITH (\n",
    "  'connector' = 'jdbc',\n",
    "  'url' = 'jdbc:postgresql://db:5432/example',\n",
    "  'table-name' = 'public.practitioner',\n",
    "  'username' = 'example',\n",
    "  'password' = 'example'\n",
    ");\n"
   ]
  },
  {
   "cell_type": "code",
   "execution_count": null,
   "metadata": {},
   "outputs": [],
   "source": [
    "%%flink_execute_sql\n",
    "CREATE TABLE patient_psql (\n",
    "  `identifier` STRING,\n",
    "  `surname` STRING,\n",
    "  `familyName` STRING,\n",
    "  `gender` STRING,\n",
    "  `birthDate` STRING,\n",
    "  `telecom` STRING,\n",
    "  `adress` STRING,\n",
    "  `city` STRING,\n",
    "  `state` STRING,\n",
    "  `postalCode` STRING,\n",
    "  `country` STRING,\n",
    "  `maritalStatus` STRING,\n",
    "  PRIMARY KEY (`identifier`) NOT ENFORCED\n",
    ") WITH (\n",
    "  'connector' = 'jdbc',\n",
    "  'url' = 'jdbc:postgresql://db:5432/example',\n",
    "  'table-name' = 'public.patient',\n",
    "  'username' = 'example',\n",
    "  'password' = 'example'\n",
    ");\n"
   ]
  },
  {
   "cell_type": "code",
   "execution_count": null,
   "metadata": {},
   "outputs": [],
   "source": [
    "%%flink_execute_sql\n",
    "CREATE TABLE visit_psql (\n",
    "  `identifier` STRING,\n",
    "  `id_organization` STRING,\n",
    "  `id_practitioner` STRING,\n",
    "  `id_patient` STRING,\n",
    "  `status` STRING,\n",
    "  `startTime` TIMESTAMP,\n",
    "  `endTime` TIMESTAMP,\n",
    "  `type` STRING,\n",
    "  PRIMARY KEY (`identifier`) NOT ENFORCED\n",
    ") WITH (\n",
    "  'connector' = 'jdbc',\n",
    "  'url' = 'jdbc:postgresql://db:5432/example',\n",
    "  'table-name' = 'public.visit',\n",
    "  'username' = 'example',\n",
    "  'password' = 'example'\n",
    ");\n"
   ]
  },
  {
   "cell_type": "code",
   "execution_count": null,
   "metadata": {},
   "outputs": [],
   "source": [
    "%%flink_execute_sql\n",
    "INSERT INTO patient_psql\n",
    "SELECT id, p.name[1].family as familyname, p.name[1].given[1] as surname, gender, birthDate, p.telecom[1][1] as telecom, p.address[1].line[1] as address,  p.address[1].city as city, p.address[1].state as state, p.address[1].country as country, p.address[1].postalCode as postalCode, maritalStatus.text as maritalStatus from patient p;"
   ]
  },
  {
   "cell_type": "code",
   "execution_count": null,
   "metadata": {},
   "outputs": [],
   "source": [
    "%%flink_execute_sql\n",
    "SELECT id, p.name[1].family as familyname, p.name[1].given[1] as surname, gender, birthDate, p.telecom[1][1] as telecom, p.address[1].line[1] as address,  p.address[1].city as city, p.address[1].state as state, p.address[1].country as country, p.address[1].postalCode as postalCode, maritalStatus.text as maritalStatus from patient p;"
   ]
  }
 ],
 "metadata": {
  "kernelspec": {
   "display_name": "Python 3",
   "language": "python",
   "name": "python3"
  },
  "language_info": {
   "codemirror_mode": {
    "name": "ipython",
    "version": 3
   },
   "file_extension": ".py",
   "mimetype": "text/x-python",
   "name": "python",
   "nbconvert_exporter": "python",
   "pygments_lexer": "ipython3",
   "version": "3.10.11"
  }
 },
 "nbformat": 4,
 "nbformat_minor": 2
}
