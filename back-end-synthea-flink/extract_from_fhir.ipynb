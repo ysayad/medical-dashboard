{
 "cells": [
  {
   "cell_type": "code",
   "execution_count": null,
   "metadata": {},
   "outputs": [],
   "source": [
    "from fhir.resources.bundle import Bundle \n",
    "import json\n",
    "import jmespath\n",
    "from kafka import KafkaProducer\n",
    "import glob"
   ]
  },
  {
   "cell_type": "code",
   "execution_count": null,
   "metadata": {},
   "outputs": [],
   "source": [
    "!docker compose stop\n",
    "!docker compose rm -f\n",
    "!docker compose up -d"
   ]
  },
  {
   "cell_type": "code",
   "execution_count": null,
   "metadata": {},
   "outputs": [],
   "source": [
    "def load_fhir_resources(f):\n",
    "    with open(f, \"r\") as file:\n",
    "        data = json.load(file)\n",
    "    resources = jmespath.search(\"entry[*]\", data)\n",
    "    return resources\n",
    "def send_resources_to_kafka(resources):\n",
    "    producer = KafkaProducer(bootstrap_servers='localhost:9095', value_serializer=lambda v: json.dumps(v).encode('utf-8'))\n",
    "    for resource in resources:\n",
    "        if \"fullUrl\" in resource:\n",
    "            print(\"{} - {} \".format(resource[\"resource\"][\"resourceType\"], resource[\"fullUrl\"]))\n",
    "        else:\n",
    "            print(resource[\"id\"])\n",
    "        producer.send(resource[\"resource\"][\"resourceType\"], key=resource[\"fullUrl\"].encode(), value=resource[\"resource\"])\n",
    "    print(\"waiting for flush\")\n",
    "    producer.flush()    "
   ]
  },
  {
   "cell_type": "markdown",
   "metadata": {},
   "source": [
    "## Patient"
   ]
  },
  {
   "cell_type": "code",
   "execution_count": null,
   "metadata": {},
   "outputs": [],
   "source": [
    "for f in glob.glob(\"output/fhir/*\"):\n",
    "    if (\"hospitalInformation\" not in f) and (\"practitionerInformation\" not in f): \n",
    "        print(f\"Loading {f}\")\n",
    "        resources = load_fhir_resources(f)\n",
    "        send_resources_to_kafka(resources)"
   ]
  },
  {
   "cell_type": "markdown",
   "metadata": {},
   "source": [
    "## Practioner"
   ]
  },
  {
   "cell_type": "code",
   "execution_count": null,
   "metadata": {},
   "outputs": [],
   "source": [
    "for f in glob.glob(\"output/fhir/*\"):\n",
    "    if (\"practitionerInformation\"  in f): \n",
    "        print(f\"Loading {f}\")\n",
    "        resources = load_fhir_resources(f)\n",
    "        send_resources_to_kafka(resources)"
   ]
  },
  {
   "cell_type": "markdown",
   "metadata": {},
   "source": [
    "## Hospital"
   ]
  },
  {
   "cell_type": "code",
   "execution_count": null,
   "metadata": {},
   "outputs": [],
   "source": [
    "for f in glob.glob(\"output/fhir/*\"):\n",
    "    if (\"hospitalInformation\"  in f): \n",
    "        print(f\"Loading {f}\")\n",
    "        resources = load_fhir_resources(f)\n",
    "        send_resources_to_kafka(resources)"
   ]
  }
 ],
 "metadata": {
  "kernelspec": {
   "display_name": "Python 3",
   "language": "python",
   "name": "python3"
  },
  "language_info": {
   "codemirror_mode": {
    "name": "ipython",
    "version": 3
   },
   "file_extension": ".py",
   "mimetype": "text/x-python",
   "name": "python",
   "nbconvert_exporter": "python",
   "pygments_lexer": "ipython3",
   "version": "3.10.11"
  }
 },
 "nbformat": 4,
 "nbformat_minor": 2
}
