{
 "cells": [
  {
   "cell_type": "code",
   "execution_count": null,
   "metadata": {},
   "outputs": [],
   "source": [
    "%env JAVA_TOOL_OPTIONS='--add-opens=java.base/java.util=ALL-UNNAMED --add-opens=java.base/java.lang=ALL-UNNAMED'\n",
    "%env FLINK_CONF_DIR=/Users/soufiane/Workspace/agile/medical-dashboard/back-end-synthea-flink/config"
   ]
  },
  {
   "cell_type": "code",
   "execution_count": null,
   "metadata": {},
   "outputs": [],
   "source": [
    "%load_ext streaming_jupyter_integrations.magics"
   ]
  },
  {
   "cell_type": "code",
   "execution_count": null,
   "metadata": {},
   "outputs": [],
   "source": [
    "%flink_connect --execution-target remote --remote-hostname localhost --remote-port 8081\n"
   ]
  },
  {
   "cell_type": "code",
   "execution_count": null,
   "metadata": {},
   "outputs": [],
   "source": [
    "%%flink_execute_sql\n",
    "CREATE TABLE patient (\n",
    "  `id` STRING,\n",
    "  `name` ROW(`family` STRING, `given` STRING ARRAY) ARRAY,\n",
    "  `gender` STRING,\n",
    "  `birthDate` STRING,\n",
    "  `telecom` ROW ( `value` STRING ) ARRAY,\n",
    "  `address` ROW (\n",
    "    `line` STRING ARRAY,\n",
    "    `city` STRING,\n",
    "    `state` STRING,\n",
    "    `postalCode` STRING,\n",
    "    `country` STRING\n",
    "  ) ARRAY,\n",
    "  `maritalStatus` ROW (\n",
    "    `text` STRING\n",
    "  )\n",
    ") WITH (\n",
    "  'connector' = 'kafka',\n",
    "  'topic' = 'Patient',\n",
    "  'properties.bootstrap.servers' = 'kafka-edge1:9092',\n",
    "  'properties.group.id' = 'testGroup',\n",
    "  'scan.startup.mode' = 'earliest-offset',\n",
    "  'format' = 'json'\n",
    ")"
   ]
  },
  {
   "cell_type": "code",
   "execution_count": null,
   "metadata": {},
   "outputs": [],
   "source": [
    "%%flink_execute_sql\n",
    "CREATE TABLE patient_psql (\n",
    "  `identifier` STRING,\n",
    "  `surname` STRING,\n",
    "  `familyName` STRING,\n",
    "  `gender` STRING,\n",
    "  `birthDate` STRING,\n",
    "  `telecom` STRING,\n",
    "  `adress` STRING,\n",
    "  `city` STRING,\n",
    "  `state` STRING,\n",
    "  `postalCode` STRING,\n",
    "  `country` STRING,\n",
    "  `maritalStatus` STRING,\n",
    "  PRIMARY KEY (`identifier`) NOT ENFORCED\n",
    ") WITH (\n",
    "  'connector' = 'jdbc',\n",
    "  'url' = 'jdbc:postgresql://ep-dark-sea-a20skpa3-pooler.eu-central-1.aws.neon.tech:5432/verceldb',\n",
    "  'table-name' = 'public.patient',\n",
    "  'username' = 'default',\n",
    "  'password' = 'tUyXvsaMq07d'\n",
    ");\n"
   ]
  },
  {
   "cell_type": "code",
   "execution_count": null,
   "metadata": {},
   "outputs": [],
   "source": [
    "%%flink_execute_sql\n",
    "INSERT INTO patient_psql\n",
    "SELECT id,\n",
    "  p.name[1].family as familyname,\n",
    "  p.name[1].given[1] as surname,\n",
    "  gender,\n",
    "  birthDate,\n",
    "  p.telecom[1][1] as telecom,\n",
    "  p.address[1].line[1] as address,\n",
    "  p.address[1].city as city,\n",
    "  p.address[1].state as state,\n",
    "  p.address[1].country as country,\n",
    "  p.address[1].postalCode as postalCode,\n",
    "  maritalStatus.text as maritalStatus \n",
    "from patient p;"
   ]
  }
 ],
 "metadata": {
  "kernelspec": {
   "display_name": "venv",
   "language": "python",
   "name": "python3"
  },
  "language_info": {
   "codemirror_mode": {
    "name": "ipython",
    "version": 3
   },
   "file_extension": ".py",
   "mimetype": "text/x-python",
   "name": "python",
   "nbconvert_exporter": "python",
   "pygments_lexer": "ipython3",
   "version": "3.10.14"
  }
 },
 "nbformat": 4,
 "nbformat_minor": 2
}
