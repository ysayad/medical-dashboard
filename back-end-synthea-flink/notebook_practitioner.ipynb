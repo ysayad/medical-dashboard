{
 "cells": [
  {
   "cell_type": "code",
   "execution_count": 1,
   "metadata": {},
   "outputs": [
    {
     "name": "stdout",
     "output_type": "stream",
     "text": [
      "env: JAVA_TOOL_OPTIONS='--add-opens=java.base/java.util=ALL-UNNAMED --add-opens=java.base/java.lang=ALL-UNNAMED'\n",
      "env: FLINK_CONF_DIR=/Users/soufiane/Workspace/agile/medical-dashboard/back-end-synthea-flink/config\n"
     ]
    }
   ],
   "source": [
    "%env JAVA_TOOL_OPTIONS='--add-opens=java.base/java.util=ALL-UNNAMED --add-opens=java.base/java.lang=ALL-UNNAMED'\n",
    "%env FLINK_CONF_DIR=/Users/soufiane/Workspace/agile/medical-dashboard/back-end-synthea-flink/config"
   ]
  },
  {
   "cell_type": "code",
   "execution_count": 2,
   "metadata": {},
   "outputs": [
    {
     "name": "stdout",
     "output_type": "stream",
     "text": [
      "Could not find scli config file at '/Users/soufiane/Workspace/agile/medical-dashboard/back-end-synthea-flink/.streaming_config.yml'. Will not load any secrets.\n",
      "Set env variable JAVA_TOOL_OPTIONS='--add-opens=java.base/java.util=ALL-UNNAMED --add-opens=java.base/java.lang=ALL-UNNAMED'\n"
     ]
    }
   ],
   "source": [
    "%load_ext streaming_jupyter_integrations.magics"
   ]
  },
  {
   "cell_type": "code",
   "execution_count": 3,
   "metadata": {},
   "outputs": [
    {
     "name": "stdout",
     "output_type": "stream",
     "text": [
      "remote environment has been created.\n"
     ]
    }
   ],
   "source": [
    "%flink_connect --execution-target remote --remote-hostname localhost --remote-port 8081\n"
   ]
  },
  {
   "cell_type": "code",
   "execution_count": 4,
   "metadata": {},
   "outputs": [
    {
     "name": "stdout",
     "output_type": "stream",
     "text": [
      "Job starting...\n",
      "Job started\n",
      "Execution successful\n"
     ]
    }
   ],
   "source": [
    "%%flink_execute_sql\n",
    "CREATE TABLE practitionerRole (\n",
    "  `id` STRING,\n",
    "  `practitioner` ROW (\n",
    "    `identifier` ROW (\n",
    "      `value` STRING\n",
    "    ),\n",
    "    `display` STRING\n",
    "  ),\n",
    "  `organization` ROW (\n",
    "    `identifier` ROW (\n",
    "      `value` STRING\n",
    "    )\n",
    "  ),\n",
    "  `specialty` ROW (\n",
    "    `text` STRING\n",
    "  ) ARRAY\n",
    ") WITH (\n",
    "  'connector' = 'kafka',\n",
    "  'topic' = 'PractitionerRole',\n",
    "  'properties.bootstrap.servers' = 'kafka-edge1:9092',\n",
    "  'properties.group.id' = 'testGroup',\n",
    "  'scan.startup.mode' = 'earliest-offset',\n",
    "  'format' = 'json'\n",
    ")"
   ]
  },
  {
   "cell_type": "code",
   "execution_count": 5,
   "metadata": {},
   "outputs": [
    {
     "name": "stdout",
     "output_type": "stream",
     "text": [
      "Job starting...\n",
      "Job started\n",
      "Execution successful\n"
     ]
    }
   ],
   "source": [
    "%%flink_execute_sql\n",
    "CREATE TABLE practitioner (\n",
    "  `identifier` ROW (\n",
    "    `value` STRING\n",
    "  ) ARRAY,\n",
    "  `active` BOOLEAN,\n",
    "  `name` ROW (\n",
    "    `family` STRING,\n",
    "    `given` STRING ARRAY\n",
    "  ) ARRAY,\n",
    "  `telecom` ROW (\n",
    "    `value` STRING\n",
    "  ) ARRAY,\n",
    "  `address` ROW (\n",
    "    `line` STRING ARRAY,\n",
    "    `city` STRING,\n",
    "    `state` STRING,\n",
    "    `postalCode` STRING,\n",
    "    `country` STRING\n",
    "  ) ARRAY,\n",
    "  `gender` STRING\n",
    ") WITH (\n",
    "  'connector' = 'kafka',\n",
    "  'topic' = 'Practitioner',\n",
    "  'properties.bootstrap.servers' = 'kafka-edge1:9092',\n",
    "  'properties.group.id' = 'testGroup',\n",
    "  'scan.startup.mode' = 'earliest-offset',\n",
    "  'format' = 'json'\n",
    ")"
   ]
  },
  {
   "cell_type": "code",
   "execution_count": 6,
   "metadata": {},
   "outputs": [
    {
     "name": "stdout",
     "output_type": "stream",
     "text": [
      "Job starting...\n",
      "Job started\n",
      "Execution successful\n"
     ]
    }
   ],
   "source": [
    "%%flink_execute_sql\n",
    "CREATE TABLE practitioner_psql (\n",
    "  `identifier` STRING,\n",
    "  `name` STRING,\n",
    "  `email` STRING,\n",
    "  `adress` STRING,\n",
    "  `city` STRING,\n",
    "  `state` STRING,\n",
    "  `postalCode` STRING,\n",
    "  `country` STRING,\n",
    "  `gender` STRING,\n",
    "  `role` STRING,\n",
    "  `id_organization` STRING,\n",
    "  PRIMARY KEY (`identifier`) NOT ENFORCED\n",
    ") WITH (\n",
    "  'connector' = 'jdbc',\n",
    "  'url' = 'jdbc:postgresql://ep-dark-sea-a20skpa3-pooler.eu-central-1.aws.neon.tech:5432/verceldb',\n",
    "  'table-name' = 'public.practitioner',\n",
    "  'username' = 'default',\n",
    "  'password' = 'tUyXvsaMq07d'\n",
    ");\n"
   ]
  },
  {
   "cell_type": "code",
   "execution_count": 7,
   "metadata": {},
   "outputs": [
    {
     "name": "stdout",
     "output_type": "stream",
     "text": [
      "This job runs in a background, please either wait or interrupt its execution before continuing\n"
     ]
    },
    {
     "data": {
      "application/vnd.jupyter.widget-view+json": {
       "model_id": "27e3100ca5b543f1a1c1536c4cadc0f6",
       "version_major": 2,
       "version_minor": 0
      },
      "text/plain": [
       "HBox(children=(Button(button_style='warning', description='Interrupt', icon='times', style=ButtonStyle(), tool…"
      ]
     },
     "metadata": {},
     "output_type": "display_data"
    },
    {
     "name": "stdout",
     "output_type": "stream",
     "text": [
      "Job starting...\n",
      "Job started\n"
     ]
    }
   ],
   "source": [
    "%%flink_execute_sql\n",
    "INSERT INTO practitioner_psql\n",
    "SELECT\n",
    "p.identifier[1][1] as identifier,\n",
    "pr.practitioner.display as name,\n",
    "telecom[1][1] as email,\n",
    "p.address[1].line[1] AS adress,  \n",
    "p.address[1].city AS city, \n",
    "p.address[1].state AS state, \n",
    "p.address[1].country AS country, \n",
    "p.address[1].postalCode AS postalcode, \n",
    "p.gender,\n",
    "pr.specialty[1].text as role,\n",
    "pr.organization.identifier[1] as id_organization\n",
    "FROM practitioner p \n",
    "JOIN practitionerRole pr\n",
    "ON p.identifier[1][1] = pr.practitioner.identifier[1]"
   ]
  }
 ],
 "metadata": {
  "kernelspec": {
   "display_name": "venv",
   "language": "python",
   "name": "python3"
  },
  "language_info": {
   "codemirror_mode": {
    "name": "ipython",
    "version": 3
   },
   "file_extension": ".py",
   "mimetype": "text/x-python",
   "name": "python",
   "nbconvert_exporter": "python",
   "pygments_lexer": "ipython3",
   "version": "3.10.14"
  }
 },
 "nbformat": 4,
 "nbformat_minor": 2
}
