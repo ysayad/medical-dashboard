{
 "cells": [
  {
   "cell_type": "code",
   "execution_count": 1,
   "metadata": {},
   "outputs": [
    {
     "name": "stdout",
     "output_type": "stream",
     "text": [
      "env: JAVA_TOOL_OPTIONS='--add-opens=java.base/java.util=ALL-UNNAMED --add-opens=java.base/java.lang=ALL-UNNAMED'\n",
      "env: FLINK_CONF_DIR=/Users/lgfquentin/dev/medical-dashboard/back-end-synthea-flink/config\n"
     ]
    }
   ],
   "source": [
    "%env JAVA_TOOL_OPTIONS='--add-opens=java.base/java.util=ALL-UNNAMED --add-opens=java.base/java.lang=ALL-UNNAMED'\n",
    "%env FLINK_CONF_DIR=/Users/lgfquentin/dev/medical-dashboard/back-end-synthea-flink/config"
   ]
  },
  {
   "cell_type": "code",
   "execution_count": 2,
   "metadata": {},
   "outputs": [
    {
     "name": "stdout",
     "output_type": "stream",
     "text": [
      "Could not find scli config file at '/Users/lgfquentin/dev/medical-dashboard/back-end-synthea-flink/.streaming_config.yml'. Will not load any secrets.\n",
      "Set env variable JAVA_TOOL_OPTIONS='--add-opens=java.base/java.util=ALL-UNNAMED --add-opens=java.base/java.lang=ALL-UNNAMED'\n"
     ]
    }
   ],
   "source": [
    "%load_ext streaming_jupyter_integrations.magics"
   ]
  },
  {
   "cell_type": "code",
   "execution_count": 3,
   "metadata": {},
   "outputs": [
    {
     "name": "stdout",
     "output_type": "stream",
     "text": [
      "remote environment has been created.\n"
     ]
    }
   ],
   "source": [
    "%flink_connect --execution-target remote --remote-hostname localhost --remote-port 8081\n"
   ]
  },
  {
   "cell_type": "code",
   "execution_count": 4,
   "metadata": {},
   "outputs": [
    {
     "name": "stdout",
     "output_type": "stream",
     "text": [
      "Job starting...\n",
      "Job started\n",
      "Execution successful\n"
     ]
    }
   ],
   "source": [
    "%%flink_execute_sql\n",
    "CREATE TABLE practitionerRole (\n",
    "  `id` STRING,\n",
    "  `practitioner` ROW (\n",
    "    `identifier` ROW (\n",
    "      `value` STRING\n",
    "    ),\n",
    "    `display` STRING\n",
    "  ),\n",
    "  `organization` ROW (\n",
    "    `identifier` ROW (\n",
    "      `value` STRING\n",
    "    )\n",
    "  ),\n",
    "  `specialty` ROW (\n",
    "    `text` STRING\n",
    "  ) ARRAY\n",
    ") WITH (\n",
    "  'connector' = 'kafka',\n",
    "  'topic' = 'PractitionerRole',\n",
    "  'properties.bootstrap.servers' = 'kafka-edge1:9092',\n",
    "  'properties.group.id' = 'testGroup',\n",
    "  'scan.startup.mode' = 'earliest-offset',\n",
    "  'format' = 'json'\n",
    ")"
   ]
  },
  {
   "cell_type": "code",
   "execution_count": 5,
   "metadata": {},
   "outputs": [
    {
     "name": "stdout",
     "output_type": "stream",
     "text": [
      "Job starting...\n",
      "Job started\n",
      "Execution successful\n"
     ]
    }
   ],
   "source": [
    "%%flink_execute_sql\n",
    "CREATE TABLE practitioner (\n",
    "  `identifier` ROW (\n",
    "    `value` STRING\n",
    "  ) ARRAY,\n",
    "  `active` BOOLEAN,\n",
    "  `name` ROW (\n",
    "    `family` STRING,\n",
    "    `given` STRING ARRAY\n",
    "  ) ARRAY,\n",
    "  `telecom` ROW (\n",
    "    `value` STRING\n",
    "  ) ARRAY,\n",
    "  `address` ROW (\n",
    "    `line` STRING ARRAY,\n",
    "    `city` STRING,\n",
    "    `state` STRING,\n",
    "    `postalCode` STRING,\n",
    "    `country` STRING\n",
    "  ) ARRAY,\n",
    "  `gender` STRING\n",
    ") WITH (\n",
    "  'connector' = 'kafka',\n",
    "  'topic' = 'Practitioner',\n",
    "  'properties.bootstrap.servers' = 'kafka-edge1:9092',\n",
    "  'properties.group.id' = 'testGroup',\n",
    "  'scan.startup.mode' = 'earliest-offset',\n",
    "  'format' = 'json'\n",
    ")"
   ]
  },
  {
   "cell_type": "code",
   "execution_count": 6,
   "metadata": {},
   "outputs": [
    {
     "name": "stdout",
     "output_type": "stream",
     "text": [
      "Job starting...\n",
      "Job started\n",
      "Execution successful\n"
     ]
    }
   ],
   "source": [
    "%%flink_execute_sql\n",
    "CREATE TABLE practitioner_psql (\n",
    "  `identifier` STRING,\n",
    "  `name` STRING,\n",
    "  `email` STRING,\n",
    "  `adress` STRING,\n",
    "  `city` STRING,\n",
    "  `state` STRING,\n",
    "  `postalCode` STRING,\n",
    "  `country` STRING,\n",
    "  `gender` STRING,\n",
    "  `role` STRING,\n",
    "  `id_organization` STRING,\n",
    "  PRIMARY KEY (`identifier`) NOT ENFORCED\n",
    ") WITH (\n",
    "  'connector' = 'jdbc',\n",
    "  'url' = 'jdbc:postgresql://db:5432/example',\n",
    "  'table-name' = 'public.practitioner',\n",
    "  'username' = 'example',\n",
    "  'password' = 'example'\n",
    ");\n"
   ]
  },
  {
   "cell_type": "code",
   "execution_count": 7,
   "metadata": {},
   "outputs": [
    {
     "name": "stdout",
     "output_type": "stream",
     "text": [
      "This job runs in a background, please either wait or interrupt its execution before continuing\n"
     ]
    },
    {
     "data": {
      "application/vnd.jupyter.widget-view+json": {
       "model_id": "d807068a85f04b3a967bd98ec770f170",
       "version_major": 2,
       "version_minor": 0
      },
      "text/plain": [
       "HBox(children=(Button(button_style='warning', description='Interrupt', icon='times', style=ButtonStyle(), tool…"
      ]
     },
     "metadata": {},
     "output_type": "display_data"
    },
    {
     "name": "stdout",
     "output_type": "stream",
     "text": [
      "Job starting...\n",
      "Job started\n",
      "Exception while waiting for rows. An error occurred while calling o166.await.\n",
      ": java.util.concurrent.ExecutionException: org.apache.flink.table.api.TableException: Failed to wait job finish\n",
      "\tat java.base/java.util.concurrent.CompletableFuture.reportGet(CompletableFuture.java:395)\n",
      "\tat java.base/java.util.concurrent.CompletableFuture.get(CompletableFuture.java:2092)\n",
      "\tat org.apache.flink.table.api.internal.TableResultImpl.awaitInternal(TableResultImpl.java:116)\n",
      "\tat org.apache.flink.table.api.internal.TableResultImpl.await(TableResultImpl.java:90)\n",
      "\tat java.base/jdk.internal.reflect.NativeMethodAccessorImpl.invoke0(Native Method)\n",
      "\tat java.base/jdk.internal.reflect.NativeMethodAccessorImpl.invoke(NativeMethodAccessorImpl.java:78)\n",
      "\tat java.base/jdk.internal.reflect.DelegatingMethodAccessorImpl.invoke(DelegatingMethodAccessorImpl.java:43)\n",
      "\tat java.base/java.lang.reflect.Method.invoke(Method.java:567)\n",
      "\tat org.apache.flink.api.python.shaded.py4j.reflection.MethodInvoker.invoke(MethodInvoker.java:244)\n",
      "\tat org.apache.flink.api.python.shaded.py4j.reflection.ReflectionEngine.invoke(ReflectionEngine.java:374)\n",
      "\tat org.apache.flink.api.python.shaded.py4j.Gateway.invoke(Gateway.java:282)\n",
      "\tat org.apache.flink.api.python.shaded.py4j.commands.AbstractCommand.invokeMethod(AbstractCommand.java:132)\n",
      "\tat org.apache.flink.api.python.shaded.py4j.commands.CallCommand.execute(CallCommand.java:79)\n",
      "\tat org.apache.flink.api.python.shaded.py4j.GatewayConnection.run(GatewayConnection.java:238)\n",
      "\tat java.base/java.lang.Thread.run(Thread.java:831)\n",
      "Caused by: org.apache.flink.table.api.TableException: Failed to wait job finish\n",
      "\tat org.apache.flink.table.api.internal.InsertResultProvider.hasNext(InsertResultProvider.java:85)\n",
      "\tat org.apache.flink.table.api.internal.InsertResultProvider.isFirstRowReady(InsertResultProvider.java:71)\n",
      "\tat org.apache.flink.table.api.internal.TableResultImpl.lambda$awaitInternal$1(TableResultImpl.java:105)\n",
      "\tat java.base/java.util.concurrent.CompletableFuture$AsyncRun.run(CompletableFuture.java:1800)\n",
      "\tat java.base/java.util.concurrent.ThreadPoolExecutor.runWorker(ThreadPoolExecutor.java:1130)\n",
      "\tat java.base/java.util.concurrent.ThreadPoolExecutor$Worker.run(ThreadPoolExecutor.java:630)\n",
      "\t... 1 more\n",
      "Caused by: java.util.concurrent.ExecutionException: org.apache.flink.client.program.ProgramInvocationException: Job failed (JobID: 8c45ef32b6435991ce77490d63b82014)\n",
      "\tat java.base/java.util.concurrent.CompletableFuture.reportGet(CompletableFuture.java:395)\n",
      "\tat java.base/java.util.concurrent.CompletableFuture.get(CompletableFuture.java:2069)\n",
      "\tat org.apache.flink.table.api.internal.InsertResultProvider.hasNext(InsertResultProvider.java:83)\n",
      "\t... 6 more\n",
      "Caused by: org.apache.flink.client.program.ProgramInvocationException: Job failed (JobID: 8c45ef32b6435991ce77490d63b82014)\n",
      "\tat org.apache.flink.client.deployment.ClusterClientJobClientAdapter.lambda$null$6(ClusterClientJobClientAdapter.java:130)\n",
      "\tat java.base/java.util.concurrent.CompletableFuture$UniApply.tryFire(CompletableFuture.java:642)\n",
      "\tat java.base/java.util.concurrent.CompletableFuture.postComplete(CompletableFuture.java:506)\n",
      "\tat java.base/java.util.concurrent.CompletableFuture.complete(CompletableFuture.java:2143)\n",
      "\tat org.apache.flink.util.concurrent.FutureUtils.lambda$retryOperationWithDelay$6(FutureUtils.java:302)\n",
      "\tat java.base/java.util.concurrent.CompletableFuture.uniWhenComplete(CompletableFuture.java:859)\n",
      "\tat java.base/java.util.concurrent.CompletableFuture$UniWhenComplete.tryFire(CompletableFuture.java:837)\n",
      "\tat java.base/java.util.concurrent.CompletableFuture.postComplete(CompletableFuture.java:506)\n",
      "\tat java.base/java.util.concurrent.CompletableFuture.complete(CompletableFuture.java:2143)\n",
      "\tat org.apache.flink.client.program.rest.RestClusterClient.lambda$pollResourceAsync$33(RestClusterClient.java:794)\n",
      "\tat java.base/java.util.concurrent.CompletableFuture.uniWhenComplete(CompletableFuture.java:859)\n",
      "\tat java.base/java.util.concurrent.CompletableFuture$UniWhenComplete.tryFire(CompletableFuture.java:837)\n",
      "\tat java.base/java.util.concurrent.CompletableFuture.postComplete(CompletableFuture.java:506)\n",
      "\tat java.base/java.util.concurrent.CompletableFuture.complete(CompletableFuture.java:2143)\n",
      "\tat org.apache.flink.util.concurrent.FutureUtils.lambda$retryOperationWithDelay$6(FutureUtils.java:302)\n",
      "\tat java.base/java.util.concurrent.CompletableFuture.uniWhenComplete(CompletableFuture.java:859)\n",
      "\tat java.base/java.util.concurrent.CompletableFuture$UniWhenComplete.tryFire(CompletableFuture.java:837)\n",
      "\tat java.base/java.util.concurrent.CompletableFuture.postComplete(CompletableFuture.java:506)\n",
      "\tat java.base/java.util.concurrent.CompletableFuture.postFire(CompletableFuture.java:610)\n",
      "\tat java.base/java.util.concurrent.CompletableFuture$UniCompose.tryFire(CompletableFuture.java:1159)\n",
      "\tat java.base/java.util.concurrent.CompletableFuture$Completion.run(CompletableFuture.java:478)\n",
      "\t... 3 more\n",
      "Caused by: org.apache.flink.runtime.client.JobExecutionException: Job execution failed.\n",
      "\tat org.apache.flink.runtime.jobmaster.JobResult.toJobExecutionResult(JobResult.java:144)\n",
      "\tat org.apache.flink.client.deployment.ClusterClientJobClientAdapter.lambda$null$6(ClusterClientJobClientAdapter.java:128)\n",
      "\t... 23 more\n",
      "Caused by: org.apache.flink.runtime.JobException: Recovery is suppressed by NoRestartBackoffTimeStrategy\n",
      "\tat org.apache.flink.runtime.executiongraph.failover.flip1.ExecutionFailureHandler.handleFailure(ExecutionFailureHandler.java:176)\n",
      "\tat org.apache.flink.runtime.executiongraph.failover.flip1.ExecutionFailureHandler.getFailureHandlingResult(ExecutionFailureHandler.java:107)\n",
      "\tat org.apache.flink.runtime.scheduler.DefaultScheduler.recordTaskFailure(DefaultScheduler.java:285)\n",
      "\tat org.apache.flink.runtime.scheduler.DefaultScheduler.handleTaskFailure(DefaultScheduler.java:276)\n",
      "\tat org.apache.flink.runtime.scheduler.DefaultScheduler.onTaskFailed(DefaultScheduler.java:269)\n",
      "\tat org.apache.flink.runtime.scheduler.SchedulerBase.onTaskExecutionStateUpdate(SchedulerBase.java:764)\n",
      "\tat org.apache.flink.runtime.scheduler.SchedulerBase.updateTaskExecutionState(SchedulerBase.java:741)\n",
      "\tat org.apache.flink.runtime.scheduler.UpdateSchedulerNgOnInternalFailuresListener.notifyTaskFailure(UpdateSchedulerNgOnInternalFailuresListener.java:51)\n",
      "\tat org.apache.flink.runtime.executiongraph.DefaultExecutionGraph.notifySchedulerNgAboutInternalTaskFailure(DefaultExecutionGraph.java:1645)\n",
      "\tat org.apache.flink.runtime.executiongraph.Execution.processFail(Execution.java:1144)\n",
      "\tat org.apache.flink.runtime.executiongraph.Execution.processFail(Execution.java:1084)\n",
      "\tat org.apache.flink.runtime.executiongraph.Execution.fail(Execution.java:785)\n",
      "\tat org.apache.flink.runtime.jobmaster.slotpool.SingleLogicalSlot.signalPayloadRelease(SingleLogicalSlot.java:195)\n",
      "\tat org.apache.flink.runtime.jobmaster.slotpool.SingleLogicalSlot.release(SingleLogicalSlot.java:182)\n",
      "\tat org.apache.flink.runtime.scheduler.SharedSlot.lambda$release$4(SharedSlot.java:270)\n",
      "\tat java.base/java.util.concurrent.CompletableFuture.uniAcceptNow(Unknown Source)\n",
      "\tat java.base/java.util.concurrent.CompletableFuture.uniAcceptStage(Unknown Source)\n",
      "\tat java.base/java.util.concurrent.CompletableFuture.thenAccept(Unknown Source)\n",
      "\tat org.apache.flink.runtime.scheduler.SharedSlot.release(SharedSlot.java:270)\n",
      "\tat org.apache.flink.runtime.jobmaster.slotpool.AllocatedSlot.releasePayload(AllocatedSlot.java:152)\n",
      "\tat org.apache.flink.runtime.jobmaster.slotpool.DefaultDeclarativeSlotPool.releasePayload(DefaultDeclarativeSlotPool.java:482)\n",
      "\tat org.apache.flink.runtime.jobmaster.slotpool.DefaultDeclarativeSlotPool.freeAndReleaseSlots(DefaultDeclarativeSlotPool.java:474)\n",
      "\tat org.apache.flink.runtime.jobmaster.slotpool.DefaultDeclarativeSlotPool.releaseSlots(DefaultDeclarativeSlotPool.java:445)\n",
      "\tat org.apache.flink.runtime.jobmaster.slotpool.DeclarativeSlotPoolService.internalReleaseTaskManager(DeclarativeSlotPoolService.java:275)\n",
      "\tat org.apache.flink.runtime.jobmaster.slotpool.DeclarativeSlotPoolService.releaseTaskManager(DeclarativeSlotPoolService.java:231)\n",
      "\tat org.apache.flink.runtime.jobmaster.JobMaster.disconnectTaskManager(JobMaster.java:549)\n",
      "\tat org.apache.flink.runtime.jobmaster.JobMaster$TaskManagerHeartbeatListener.handleTaskManagerConnectionLoss(JobMaster.java:1469)\n",
      "\tat org.apache.flink.runtime.jobmaster.JobMaster$TaskManagerHeartbeatListener.notifyTargetUnreachable(JobMaster.java:1480)\n",
      "\tat org.apache.flink.runtime.heartbeat.DefaultHeartbeatMonitor.reportHeartbeatRpcFailure(DefaultHeartbeatMonitor.java:126)\n",
      "\tat org.apache.flink.runtime.heartbeat.HeartbeatManagerImpl.runIfHeartbeatMonitorExists(HeartbeatManagerImpl.java:275)\n",
      "\tat org.apache.flink.runtime.heartbeat.HeartbeatManagerImpl.reportHeartbeatTargetUnreachable(HeartbeatManagerImpl.java:267)\n",
      "\tat org.apache.flink.runtime.heartbeat.HeartbeatManagerImpl.handleHeartbeatRpcFailure(HeartbeatManagerImpl.java:262)\n",
      "\tat org.apache.flink.runtime.heartbeat.HeartbeatManagerImpl.lambda$handleHeartbeatRpc$0(HeartbeatManagerImpl.java:248)\n",
      "\tat java.base/java.util.concurrent.CompletableFuture.uniWhenComplete(Unknown Source)\n",
      "\tat java.base/java.util.concurrent.CompletableFuture$UniWhenComplete.tryFire(Unknown Source)\n",
      "\tat java.base/java.util.concurrent.CompletableFuture$Completion.run(Unknown Source)\n",
      "\tat org.apache.flink.runtime.rpc.pekko.PekkoRpcActor.lambda$handleRunAsync$4(PekkoRpcActor.java:451)\n",
      "\tat org.apache.flink.runtime.concurrent.ClassLoadingUtils.runWithContextClassLoader(ClassLoadingUtils.java:68)\n",
      "\tat org.apache.flink.runtime.rpc.pekko.PekkoRpcActor.handleRunAsync(PekkoRpcActor.java:451)\n",
      "\tat org.apache.flink.runtime.rpc.pekko.PekkoRpcActor.handleRpcMessage(PekkoRpcActor.java:218)\n",
      "\tat org.apache.flink.runtime.rpc.pekko.FencedPekkoRpcActor.handleRpcMessage(FencedPekkoRpcActor.java:85)\n",
      "\tat org.apache.flink.runtime.rpc.pekko.PekkoRpcActor.handleMessage(PekkoRpcActor.java:168)\n",
      "\tat org.apache.pekko.japi.pf.UnitCaseStatement.apply(CaseStatements.scala:33)\n",
      "\tat org.apache.pekko.japi.pf.UnitCaseStatement.apply(CaseStatements.scala:29)\n",
      "\tat scala.PartialFunction.applyOrElse(PartialFunction.scala:127)\n",
      "\tat scala.PartialFunction.applyOrElse$(PartialFunction.scala:126)\n",
      "\tat org.apache.pekko.japi.pf.UnitCaseStatement.applyOrElse(CaseStatements.scala:29)\n",
      "\tat scala.PartialFunction$OrElse.applyOrElse(PartialFunction.scala:175)\n",
      "\tat scala.PartialFunction$OrElse.applyOrElse(PartialFunction.scala:176)\n",
      "\tat scala.PartialFunction$OrElse.applyOrElse(PartialFunction.scala:176)\n",
      "\tat org.apache.pekko.actor.Actor.aroundReceive(Actor.scala:547)\n",
      "\tat org.apache.pekko.actor.Actor.aroundReceive$(Actor.scala:545)\n",
      "\tat org.apache.pekko.actor.AbstractActor.aroundReceive(AbstractActor.scala:229)\n",
      "\tat org.apache.pekko.actor.ActorCell.receiveMessage(ActorCell.scala:590)\n",
      "\tat org.apache.pekko.actor.ActorCell.invoke(ActorCell.scala:557)\n",
      "\tat org.apache.pekko.dispatch.Mailbox.processMailbox(Mailbox.scala:280)\n",
      "\tat org.apache.pekko.dispatch.Mailbox.run(Mailbox.scala:241)\n",
      "\tat org.apache.pekko.dispatch.Mailbox.exec(Mailbox.scala:253)\n",
      "\tat java.base/java.util.concurrent.ForkJoinTask.doExec(Unknown Source)\n",
      "\tat java.base/java.util.concurrent.ForkJoinPool$WorkQueue.topLevelExec(Unknown Source)\n",
      "\tat java.base/java.util.concurrent.ForkJoinPool.scan(Unknown Source)\n",
      "\tat java.base/java.util.concurrent.ForkJoinPool.runWorker(Unknown Source)\n",
      "\tat java.base/java.util.concurrent.ForkJoinWorkerThread.run(Unknown Source)\n",
      "Caused by: org.apache.flink.runtime.jobmaster.JobMasterException: TaskManager with id 172.19.0.7:37473-4b69dc is no longer reachable.\n",
      "\t... 36 more\n",
      "\n",
      "Execution successful\n",
      "Execution done\n"
     ]
    }
   ],
   "source": [
    "%%flink_execute_sql\n",
    "INSERT INTO practitioner_psql\n",
    "SELECT\n",
    "p.identifier[1][1] as identifier,\n",
    "pr.practitioner.display as name,\n",
    "telecom[1][1] as email,\n",
    "p.address[1].line[1] AS adress,  \n",
    "p.address[1].city AS city, \n",
    "p.address[1].state AS state, \n",
    "p.address[1].country AS country, \n",
    "p.address[1].postalCode AS postalcode, \n",
    "p.gender,\n",
    "pr.specialty[1].text as role,\n",
    "pr.organization.identifier[1] as id_organization\n",
    "FROM practitioner p \n",
    "JOIN practitionerRole pr\n",
    "ON p.identifier[1][1] = pr.practitioner.identifier[1]"
   ]
  }
 ],
 "metadata": {
  "kernelspec": {
   "display_name": "venv",
   "language": "python",
   "name": "python3"
  },
  "language_info": {
   "codemirror_mode": {
    "name": "ipython",
    "version": 3
   },
   "file_extension": ".py",
   "mimetype": "text/x-python",
   "name": "python",
   "nbconvert_exporter": "python",
   "pygments_lexer": "ipython3",
   "version": "3.10.11"
  }
 },
 "nbformat": 4,
 "nbformat_minor": 2
}
