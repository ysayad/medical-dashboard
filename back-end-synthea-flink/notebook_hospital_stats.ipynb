{
 "cells": [
  {
   "cell_type": "code",
   "execution_count": null,
   "metadata": {},
   "outputs": [],
   "source": [
    "%env JAVA_TOOL_OPTIONS='--add-opens=java.base/java.util=ALL-UNNAMED --add-opens=java.base/java.lang=ALL-UNNAMED'\n",
    "%env FLINK_CONF_DIR=/Users/soufiane/Workspace/agile/medical-dashboard/back-end-synthea-flink/config"
   ]
  },
  {
   "cell_type": "code",
   "execution_count": null,
   "metadata": {},
   "outputs": [],
   "source": [
    "%load_ext streaming_jupyter_integrations.magics"
   ]
  },
  {
   "cell_type": "code",
   "execution_count": null,
   "metadata": {},
   "outputs": [],
   "source": [
    "%flink_connect --execution-target remote --remote-hostname localhost --remote-port 8081\n",
    "#%flink_connect "
   ]
  },
  {
   "cell_type": "code",
   "execution_count": null,
   "metadata": {},
   "outputs": [],
   "source": [
    "%%flink_execute_sql\n",
    "CREATE TABLE patient (\n",
    "  `id` STRING,\n",
    "  `name` ROW(`family` STRING, `given` STRING ARRAY) ARRAY,\n",
    "  `gender` STRING,\n",
    "  `birthDate` STRING,\n",
    "  `telecom` ROW ( `value` STRING ) ARRAY,\n",
    "  `address` ROW (\n",
    "    `line` STRING ARRAY,\n",
    "    `city` STRING,\n",
    "    `state` STRING,\n",
    "    `postalCode` STRING,\n",
    "    `country` STRING\n",
    "  ) ARRAY,\n",
    "  `maritalStatus` ROW (\n",
    "    `text` STRING\n",
    "  )\n",
    ") WITH (\n",
    "  'connector' = 'kafka',\n",
    "  'topic' = 'Patient',\n",
    "  'properties.bootstrap.servers' = 'kafka-edge1:9092',\n",
    "  'properties.group.id' = 'testGroup',\n",
    "  'scan.startup.mode' = 'earliest-offset',\n",
    "  'format' = 'json'\n",
    ")"
   ]
  },
  {
   "cell_type": "code",
   "execution_count": null,
   "metadata": {},
   "outputs": [],
   "source": [
    "%%flink_execute_sql\n",
    "CREATE TABLE encounter (\n",
    "  `id` STRING,\n",
    "  `status` STRING,\n",
    "  `type` ROW (\n",
    "    `coding` ROW (\n",
    "      `code` STRING,\n",
    "      `display` STRING\n",
    "    ) ARRAY  ) ARRAY,\n",
    "  `subject` ROW (\n",
    "    `reference` STRING,\n",
    "    `display` STRING\n",
    "  ),\n",
    "  `participant` ROW (\n",
    "    `individual` ROW (\n",
    "      `reference` STRING,\n",
    "      `display` STRING\n",
    "    )\n",
    "  ) ARRAY,\n",
    "  `period` ROW (\n",
    "    `start` STRING,\n",
    "    `end` STRING\n",
    "  ),\n",
    "  `serviceProvider` ROW (\n",
    "    `reference` STRING\n",
    "  ) \n",
    ") WITH (\n",
    "  'connector' = 'kafka',\n",
    "  'topic' = 'Encounter',\n",
    "  'properties.bootstrap.servers' = 'kafka-edge1:9092',\n",
    "  'properties.group.id' = 'testGroup',\n",
    "  'scan.startup.mode' = 'earliest-offset',\n",
    "  'format' = 'json'\n",
    ")"
   ]
  },
  {
   "cell_type": "code",
   "execution_count": null,
   "metadata": {},
   "outputs": [],
   "source": [
    "%%flink_execute_sql\n",
    "CREATE TABLE hospital_stats (\n",
    "  hospital_id STRING,\n",
    "  visit_count BIGINT,\n",
    "  patient_count BIGINT,\n",
    "  most_common_disease STRING,\n",
    "  disease_count BIGINT,\n",
    "  PRIMARY KEY (hospital_id) NOT ENFORCED\n",
    ") WITH (\n",
    "  'connector' = 'jdbc',\n",
    "  'url' = 'jdbc:postgresql://ep-dark-sea-a20skpa3-pooler.eu-central-1.aws.neon.tech:5432/verceldb',\n",
    "  'table-name' = 'public.hospital_stats',\n",
    "  'username' = 'default',\n",
    "  'password' = 'tUyXvsaMq07d'\n",
    ");"
   ]
  },
  {
   "cell_type": "code",
   "execution_count": null,
   "metadata": {},
   "outputs": [],
   "source": [
    "%%flink_execute_sql\n",
    "CREATE VIEW encounter_view AS\n",
    "SELECT\n",
    "  id,\n",
    "  status,\n",
    "  type,\n",
    "  subject.reference AS patient_id,\n",
    "  serviceProvider.reference AS hospital_id\n",
    "FROM encounter;\n"
   ]
  },
  {
   "cell_type": "code",
   "execution_count": null,
   "metadata": {},
   "outputs": [],
   "source": [
    "%%flink_execute_sql\n",
    "INSERT INTO hospital_stats\n",
    "WITH max_disease_code AS (\n",
    "  SELECT\n",
    "    v.serviceProvider.reference AS hospital_id,\n",
    "    MAX(v.type[1].coding[1].display) AS max_disease_code\n",
    "  FROM\n",
    "    encounter v\n",
    "  GROUP BY\n",
    "    v.serviceProvider.reference\n",
    ")\n",
    "SELECT\n",
    "  REPLACE(\n",
    "    v.serviceProvider.reference, \n",
    "    'Organization?identifier=https://github.com/synthetichealth/synthea|', \n",
    "    ''\n",
    "  ) AS hospital_id,\n",
    "  COUNT(DISTINCT v.subject.reference) AS patient_count,\n",
    "  COUNT(*) AS visit_count,\n",
    "  MAX(v.type[1].coding[1].display) AS most_common_disease,\n",
    "  COUNT(*) FILTER (WHERE v.type[1].coding[1].display = m.max_disease_code) AS disease_count\n",
    "FROM\n",
    "  encounter v\n",
    "JOIN\n",
    "  max_disease_code m\n",
    "ON\n",
    "  v.serviceProvider.reference = m.hospital_id\n",
    "GROUP BY\n",
    "  v.serviceProvider.reference;\n"
   ]
  }
 ],
 "metadata": {
  "kernelspec": {
   "display_name": "venv",
   "language": "python",
   "name": "python3"
  },
  "language_info": {
   "codemirror_mode": {
    "name": "ipython",
    "version": 3
   },
   "file_extension": ".py",
   "mimetype": "text/x-python",
   "name": "python",
   "nbconvert_exporter": "python",
   "pygments_lexer": "ipython3",
   "version": "3.10.14"
  }
 },
 "nbformat": 4,
 "nbformat_minor": 2
}
