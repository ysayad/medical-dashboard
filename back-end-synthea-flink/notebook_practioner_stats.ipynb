{
 "cells": [
  {
   "cell_type": "code",
   "execution_count": 1,
   "metadata": {},
   "outputs": [
    {
     "name": "stdout",
     "output_type": "stream",
     "text": [
      "env: JAVA_TOOL_OPTIONS='--add-opens=java.base/java.util=ALL-UNNAMED --add-opens=java.base/java.lang=ALL-UNNAMED'\n",
      "env: FLINK_CONF_DIR=/Users/soufiane/Workspace/agile/medical-dashboard/back-end-synthea-flink/config\n"
     ]
    }
   ],
   "source": [
    "%env JAVA_TOOL_OPTIONS='--add-opens=java.base/java.util=ALL-UNNAMED --add-opens=java.base/java.lang=ALL-UNNAMED'\n",
    "%env FLINK_CONF_DIR=/Users/soufiane/Workspace/agile/medical-dashboard/back-end-synthea-flink/config"
   ]
  },
  {
   "cell_type": "code",
   "execution_count": 2,
   "metadata": {},
   "outputs": [
    {
     "name": "stdout",
     "output_type": "stream",
     "text": [
      "Could not find scli config file at '/Users/soufiane/Workspace/agile/medical-dashboard/back-end-synthea-flink/.streaming_config.yml'. Will not load any secrets.\n",
      "Set env variable JAVA_TOOL_OPTIONS='--add-opens=java.base/java.util=ALL-UNNAMED --add-opens=java.base/java.lang=ALL-UNNAMED'\n"
     ]
    }
   ],
   "source": [
    "%load_ext streaming_jupyter_integrations.magics"
   ]
  },
  {
   "cell_type": "code",
   "execution_count": 3,
   "metadata": {},
   "outputs": [
    {
     "name": "stdout",
     "output_type": "stream",
     "text": [
      "remote environment has been created.\n"
     ]
    }
   ],
   "source": [
    "%flink_connect --execution-target remote --remote-hostname localhost --remote-port 8081\n"
   ]
  },
  {
   "cell_type": "code",
   "execution_count": 4,
   "metadata": {},
   "outputs": [
    {
     "name": "stdout",
     "output_type": "stream",
     "text": [
      "Job starting...\n",
      "Job started\n",
      "Execution successful\n"
     ]
    }
   ],
   "source": [
    "%%flink_execute_sql\n",
    "CREATE TABLE patient (\n",
    "  `id` STRING,\n",
    "  `name` ROW(`family` STRING, `given` STRING ARRAY) ARRAY,\n",
    "  `gender` STRING,\n",
    "  `birthDate` STRING,\n",
    "  `telecom` ROW ( `value` STRING ) ARRAY,\n",
    "  `address` ROW (\n",
    "    `line` STRING ARRAY,\n",
    "    `city` STRING,\n",
    "    `state` STRING,\n",
    "    `postalCode` STRING,\n",
    "    `country` STRING\n",
    "  ) ARRAY,\n",
    "  `maritalStatus` ROW (\n",
    "    `text` STRING\n",
    "  )\n",
    ") WITH (\n",
    "  'connector' = 'kafka',\n",
    "  'topic' = 'Patient',\n",
    "  'properties.bootstrap.servers' = 'kafka-edge1:9092',\n",
    "  'properties.group.id' = 'testGroup',\n",
    "  'scan.startup.mode' = 'earliest-offset',\n",
    "  'format' = 'json'\n",
    ")"
   ]
  },
  {
   "cell_type": "code",
   "execution_count": 5,
   "metadata": {},
   "outputs": [
    {
     "name": "stdout",
     "output_type": "stream",
     "text": [
      "Job starting...\n",
      "Job started\n",
      "Execution successful\n"
     ]
    }
   ],
   "source": [
    "%%flink_execute_sql\n",
    "CREATE TABLE encounter (\n",
    "  `id` STRING,\n",
    "  `status` STRING,\n",
    "  `type` ROW (\n",
    "    `coding` ROW (\n",
    "      `code` STRING,\n",
    "      `display` STRING\n",
    "    ) ARRAY  ) ARRAY,\n",
    "  `subject` ROW (\n",
    "    `reference` STRING,\n",
    "    `display` STRING\n",
    "  ),\n",
    "  `participant` ROW (\n",
    "    `individual` ROW (\n",
    "      `reference` STRING,\n",
    "      `display` STRING\n",
    "    )\n",
    "  ) ARRAY,\n",
    "  `period` ROW (\n",
    "    `start` STRING,\n",
    "    `end` STRING\n",
    "  ),\n",
    "  `serviceProvider` ROW (\n",
    "    `reference` STRING\n",
    "  ) \n",
    ") WITH (\n",
    "  'connector' = 'kafka',\n",
    "  'topic' = 'Encounter',\n",
    "  'properties.bootstrap.servers' = 'kafka-edge1:9092',\n",
    "  'properties.group.id' = 'testGroup',\n",
    "  'scan.startup.mode' = 'earliest-offset',\n",
    "  'format' = 'json'\n",
    ")"
   ]
  },
  {
   "cell_type": "code",
   "execution_count": 11,
   "metadata": {},
   "outputs": [
    {
     "name": "stdout",
     "output_type": "stream",
     "text": [
      "Job starting...\n",
      "Job started\n",
      "Execution successful\n"
     ]
    }
   ],
   "source": [
    "%%flink_execute_sql\n",
    "CREATE TABLE practitioner_stats_psql (\n",
    "   `id_practitioner` STRING,\n",
    "    `average_age` INTEGER,\n",
    "    `min_age` INTEGER,\n",
    "    `max_age` INTEGER,\n",
    "    `total_patients` INTEGER,\n",
    "  PRIMARY KEY (`id_practitioner`) NOT ENFORCED\n",
    ") WITH (\n",
    "  'connector' = 'jdbc',\n",
    "  'url' = 'jdbc:postgresql://ep-dark-sea-a20skpa3-pooler.eu-central-1.aws.neon.tech:5432/verceldb',\n",
    "  'table-name' = 'public.practitioner_stats',\n",
    "  'username' = 'default',\n",
    "  'password' = 'tUyXvsaMq07d'\n",
    ");"
   ]
  },
  {
   "cell_type": "code",
   "execution_count": null,
   "metadata": {},
   "outputs": [
    {
     "name": "stdout",
     "output_type": "stream",
     "text": [
      "This job runs in a background, please either wait or interrupt its execution before continuing\n"
     ]
    },
    {
     "data": {
      "application/vnd.jupyter.widget-view+json": {
       "model_id": "64e85607479d49d285dec1e960a93413",
       "version_major": 2,
       "version_minor": 0
      },
      "text/plain": [
       "HBox(children=(Button(button_style='warning', description='Interrupt', icon='times', style=ButtonStyle(), tool…"
      ]
     },
     "metadata": {},
     "output_type": "display_data"
    },
    {
     "name": "stdout",
     "output_type": "stream",
     "text": [
      "Job starting...\n",
      "Job started\n",
      "Pulling query results...\n",
      "Results will be pulled from the job. You can interrupt any time to show partial results.\n",
      "Execution result will bind to `execution_result` variable.\n"
     ]
    },
    {
     "data": {
      "application/vnd.jupyter.widget-view+json": {
       "model_id": "0c129db97e4e4addb77de996935551e1",
       "version_major": 2,
       "version_minor": 0
      },
      "text/plain": [
       "IntText(value=0, description='Loaded rows: ')"
      ]
     },
     "metadata": {},
     "output_type": "display_data"
    },
    {
     "data": {
      "text/html": [
       "<div>\n",
       "<style scoped>\n",
       "    .dataframe tbody tr th:only-of-type {\n",
       "        vertical-align: middle;\n",
       "    }\n",
       "\n",
       "    .dataframe tbody tr th {\n",
       "        vertical-align: top;\n",
       "    }\n",
       "\n",
       "    .dataframe thead th {\n",
       "        text-align: right;\n",
       "    }\n",
       "</style>\n",
       "<table border=\"1\" class=\"dataframe\">\n",
       "  <thead>\n",
       "    <tr style=\"text-align: right;\">\n",
       "      <th></th>\n",
       "      <th>id_practitioner</th>\n",
       "      <th>average_age</th>\n",
       "      <th>min_age</th>\n",
       "      <th>max_age</th>\n",
       "      <th>total_patients</th>\n",
       "    </tr>\n",
       "  </thead>\n",
       "  <tbody>\n",
       "    <tr>\n",
       "      <th>0</th>\n",
       "      <td>e6181521-8f18-0384-01c8-3196bda965c1</td>\n",
       "      <td>68</td>\n",
       "      <td>68</td>\n",
       "      <td>68</td>\n",
       "      <td>1</td>\n",
       "    </tr>\n",
       "    <tr>\n",
       "      <th>1</th>\n",
       "      <td>e6181521-8f18-0384-01c8-3196bda965c1</td>\n",
       "      <td>68</td>\n",
       "      <td>68</td>\n",
       "      <td>68</td>\n",
       "      <td>1</td>\n",
       "    </tr>\n",
       "    <tr>\n",
       "      <th>2</th>\n",
       "      <td>e6181521-8f18-0384-01c8-3196bda965c1</td>\n",
       "      <td>68</td>\n",
       "      <td>68</td>\n",
       "      <td>68</td>\n",
       "      <td>2</td>\n",
       "    </tr>\n",
       "    <tr>\n",
       "      <th>3</th>\n",
       "      <td>e6181521-8f18-0384-01c8-3196bda965c1</td>\n",
       "      <td>68</td>\n",
       "      <td>68</td>\n",
       "      <td>68</td>\n",
       "      <td>2</td>\n",
       "    </tr>\n",
       "    <tr>\n",
       "      <th>4</th>\n",
       "      <td>e6181521-8f18-0384-01c8-3196bda965c1</td>\n",
       "      <td>68</td>\n",
       "      <td>68</td>\n",
       "      <td>68</td>\n",
       "      <td>3</td>\n",
       "    </tr>\n",
       "    <tr>\n",
       "      <th>...</th>\n",
       "      <td>...</td>\n",
       "      <td>...</td>\n",
       "      <td>...</td>\n",
       "      <td>...</td>\n",
       "      <td>...</td>\n",
       "    </tr>\n",
       "    <tr>\n",
       "      <th>206</th>\n",
       "      <td>c36b439f-5f1d-2380-0957-80badc95ce3f</td>\n",
       "      <td>35</td>\n",
       "      <td>35</td>\n",
       "      <td>35</td>\n",
       "      <td>2</td>\n",
       "    </tr>\n",
       "    <tr>\n",
       "      <th>207</th>\n",
       "      <td>c36b439f-5f1d-2380-0957-80badc95ce3f</td>\n",
       "      <td>35</td>\n",
       "      <td>35</td>\n",
       "      <td>35</td>\n",
       "      <td>3</td>\n",
       "    </tr>\n",
       "    <tr>\n",
       "      <th>208</th>\n",
       "      <td>ae61b742-fb9f-b28a-9fab-b8c04b2d83d2</td>\n",
       "      <td>23</td>\n",
       "      <td>23</td>\n",
       "      <td>23</td>\n",
       "      <td>1</td>\n",
       "    </tr>\n",
       "    <tr>\n",
       "      <th>209</th>\n",
       "      <td>ae61b742-fb9f-b28a-9fab-b8c04b2d83d2</td>\n",
       "      <td>23</td>\n",
       "      <td>23</td>\n",
       "      <td>23</td>\n",
       "      <td>1</td>\n",
       "    </tr>\n",
       "    <tr>\n",
       "      <th>210</th>\n",
       "      <td>ae61b742-fb9f-b28a-9fab-b8c04b2d83d2</td>\n",
       "      <td>23</td>\n",
       "      <td>23</td>\n",
       "      <td>23</td>\n",
       "      <td>2</td>\n",
       "    </tr>\n",
       "  </tbody>\n",
       "</table>\n",
       "<p>211 rows × 5 columns</p>\n",
       "</div>"
      ],
      "text/plain": [
       "                          id_practitioner average_age min_age max_age  \\\n",
       "0    e6181521-8f18-0384-01c8-3196bda965c1          68      68      68   \n",
       "1    e6181521-8f18-0384-01c8-3196bda965c1          68      68      68   \n",
       "2    e6181521-8f18-0384-01c8-3196bda965c1          68      68      68   \n",
       "3    e6181521-8f18-0384-01c8-3196bda965c1          68      68      68   \n",
       "4    e6181521-8f18-0384-01c8-3196bda965c1          68      68      68   \n",
       "..                                    ...         ...     ...     ...   \n",
       "206  c36b439f-5f1d-2380-0957-80badc95ce3f          35      35      35   \n",
       "207  c36b439f-5f1d-2380-0957-80badc95ce3f          35      35      35   \n",
       "208  ae61b742-fb9f-b28a-9fab-b8c04b2d83d2          23      23      23   \n",
       "209  ae61b742-fb9f-b28a-9fab-b8c04b2d83d2          23      23      23   \n",
       "210  ae61b742-fb9f-b28a-9fab-b8c04b2d83d2          23      23      23   \n",
       "\n",
       "    total_patients  \n",
       "0                1  \n",
       "1                1  \n",
       "2                2  \n",
       "3                2  \n",
       "4                3  \n",
       "..             ...  \n",
       "206              2  \n",
       "207              3  \n",
       "208              1  \n",
       "209              1  \n",
       "210              2  \n",
       "\n",
       "[211 rows x 5 columns]"
      ]
     },
     "metadata": {},
     "output_type": "display_data"
    },
    {
     "name": "stdout",
     "output_type": "stream",
     "text": [
      "Deployment cancellation in progress...\n",
      "Job termination in progress...\n",
      "Execution done\n"
     ]
    }
   ],
   "source": [
    "%%flink_execute_sql\n",
    "INSERT INTO practitioner_stats_psql\n",
    "WITH patient_ages AS (\n",
    "    SELECT \n",
    "        p.id,\n",
    "        YEAR(CAST(NOW() AS DATE)) - YEAR(CAST(p.birthDate AS DATE)) - \n",
    "        CASE WHEN EXTRACT(MONTH FROM CAST(NOW() AS DATE)) < EXTRACT(MONTH FROM CAST(p.birthDate AS DATE)) OR (EXTRACT(MONTH FROM CAST(NOW() AS DATE)) = EXTRACT(MONTH FROM CAST(p.birthDate AS DATE)) AND EXTRACT(DAY FROM CAST(NOW() AS DATE)) < EXTRACT(DAY FROM CAST(p.birthDate AS DATE))) THEN 1 ELSE 0 END AS age\n",
    "    FROM \n",
    "        encounter e\n",
    "    JOIN \n",
    "        patient p ON REPLACE(\n",
    "      e.subject.reference, \n",
    "        'urn:uuid:', \n",
    "        ''\n",
    "        ) = p.id\n",
    "),\n",
    "practitioner_stats AS (\n",
    "    SELECT \n",
    "        REPLACE(\n",
    "      e.subject.reference, \n",
    "        'urn:uuid:', \n",
    "        ''\n",
    "        )\n",
    "        AS id_practitioner,\n",
    "        AVG(pa.age) AS average_age,\n",
    "        MIN(pa.age) AS min_age,\n",
    "        MAX(pa.age) AS max_age,\n",
    "        COUNT(DISTINCT pa.id) AS total_patients\n",
    "    FROM \n",
    "        encounter e\n",
    "    JOIN \n",
    "        patient_ages pa ON REPLACE(\n",
    "      e.subject.reference, \n",
    "        'urn:uuid:', \n",
    "        ''\n",
    "        ) = pa.id\n",
    "    GROUP BY \n",
    "        REPLACE(\n",
    "    e.participant[1].individual.reference, \n",
    "    'Practitioner?identifier=http://hl7.org/fhir/sid/us-npi|', \n",
    "    ''\n",
    "  ),\n",
    "    e.subject.reference\n",
    ")\n",
    "SELECT \n",
    "    ps.id_practitioner,\n",
    "    AVG(ps.average_age) AS average_age,\n",
    "    MIN(ps.min_age) AS min_age,\n",
    "    MAX(ps.max_age) AS max_age,\n",
    "    SUM(ps.total_patients) AS total_patients\n",
    "FROM \n",
    "    practitioner_stats ps\n",
    "GROUP BY \n",
    "    ps.id_practitioner;\n"
   ]
  }
 ],
 "metadata": {
  "kernelspec": {
   "display_name": "venv",
   "language": "python",
   "name": "python3"
  },
  "language_info": {
   "codemirror_mode": {
    "name": "ipython",
    "version": 3
   },
   "file_extension": ".py",
   "mimetype": "text/x-python",
   "name": "python",
   "nbconvert_exporter": "python",
   "pygments_lexer": "ipython3",
   "version": "3.10.14"
  }
 },
 "nbformat": 4,
 "nbformat_minor": 2
}
