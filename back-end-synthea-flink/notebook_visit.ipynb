{
 "cells": [
  {
   "cell_type": "code",
   "execution_count": 1,
   "metadata": {},
   "outputs": [
    {
     "name": "stdout",
     "output_type": "stream",
     "text": [
      "env: JAVA_TOOL_OPTIONS='--add-opens=java.base/java.util=ALL-UNNAMED --add-opens=java.base/java.lang=ALL-UNNAMED'\n",
      "env: FLINK_CONF_DIR=/Users/soufiane/Workspace/agile/medical-dashboard/back-end-synthea-flink/config\n"
     ]
    }
   ],
   "source": [
    "%env JAVA_TOOL_OPTIONS='--add-opens=java.base/java.util=ALL-UNNAMED --add-opens=java.base/java.lang=ALL-UNNAMED'\n",
    "%env FLINK_CONF_DIR=/Users/soufiane/Workspace/agile/medical-dashboard/back-end-synthea-flink/config"
   ]
  },
  {
   "cell_type": "code",
   "execution_count": 2,
   "metadata": {},
   "outputs": [
    {
     "name": "stdout",
     "output_type": "stream",
     "text": [
      "Could not find scli config file at '/Users/soufiane/Workspace/agile/medical-dashboard/back-end-synthea-flink/.streaming_config.yml'. Will not load any secrets.\n",
      "Set env variable JAVA_TOOL_OPTIONS='--add-opens=java.base/java.util=ALL-UNNAMED --add-opens=java.base/java.lang=ALL-UNNAMED'\n"
     ]
    }
   ],
   "source": [
    "%load_ext streaming_jupyter_integrations.magics"
   ]
  },
  {
   "cell_type": "code",
   "execution_count": 3,
   "metadata": {},
   "outputs": [
    {
     "name": "stdout",
     "output_type": "stream",
     "text": [
      "remote environment has been created.\n"
     ]
    }
   ],
   "source": [
    "%flink_connect --execution-target remote --remote-hostname localhost --remote-port 8081\n"
   ]
  },
  {
   "cell_type": "code",
   "execution_count": 4,
   "metadata": {},
   "outputs": [
    {
     "name": "stdout",
     "output_type": "stream",
     "text": [
      "Job starting...\n",
      "Job started\n",
      "Execution successful\n"
     ]
    }
   ],
   "source": [
    "%%flink_execute_sql\n",
    "CREATE TABLE encounter (\n",
    "  `id` STRING,\n",
    "  `status` STRING,\n",
    "  `type` ROW (\n",
    "    `coding` ROW (\n",
    "      `code` STRING,\n",
    "      `display` STRING\n",
    "    ) ARRAY  ) ARRAY,\n",
    "  `subject` ROW (\n",
    "    `reference` STRING,\n",
    "    `display` STRING\n",
    "  ),\n",
    "  `participant` ROW (\n",
    "    `individual` ROW (\n",
    "      `reference` STRING,\n",
    "      `display` STRING\n",
    "    )\n",
    "  ) ARRAY,\n",
    "  `period` ROW (\n",
    "    `start` STRING,\n",
    "    `end` STRING\n",
    "  ),\n",
    "  `serviceProvider` ROW (\n",
    "    `reference` STRING\n",
    "  ) \n",
    ") WITH (\n",
    "  'connector' = 'kafka',\n",
    "  'topic' = 'Encounter',\n",
    "  'properties.bootstrap.servers' = 'kafka-edge1:9092',\n",
    "  'properties.group.id' = 'testGroup',\n",
    "  'scan.startup.mode' = 'earliest-offset',\n",
    "  'format' = 'json'\n",
    ")"
   ]
  },
  {
   "cell_type": "code",
   "execution_count": 5,
   "metadata": {},
   "outputs": [
    {
     "name": "stdout",
     "output_type": "stream",
     "text": [
      "Job starting...\n",
      "Job started\n",
      "Execution successful\n"
     ]
    }
   ],
   "source": [
    "%%flink_execute_sql\n",
    "CREATE TABLE visit_psql (\n",
    "  `identifier` STRING,\n",
    "  `id_organization` STRING,\n",
    "  `id_practitioner` STRING,\n",
    "  `id_patient` STRING,\n",
    "  `status` STRING,\n",
    "  `startTime` STRING,\n",
    "  `endTime` STRING,\n",
    "  `type` STRING,\n",
    "  PRIMARY KEY (`identifier`) NOT ENFORCED\n",
    ") WITH (\n",
    "  'connector' = 'jdbc',\n",
    "  'url' = 'jdbc:postgresql://ep-dark-sea-a20skpa3-pooler.eu-central-1.aws.neon.tech:5432/verceldb',\n",
    "  'table-name' = 'public.visit',\n",
    "  'username' = 'default',\n",
    "  'password' = 'tUyXvsaMq07d'\n",
    ");"
   ]
  },
  {
   "cell_type": "code",
   "execution_count": 6,
   "metadata": {},
   "outputs": [
    {
     "name": "stdout",
     "output_type": "stream",
     "text": [
      "This job runs in a background, please either wait or interrupt its execution before continuing\n"
     ]
    },
    {
     "data": {
      "application/vnd.jupyter.widget-view+json": {
       "model_id": "6c5302155e65474f80fd6d81483c5f5a",
       "version_major": 2,
       "version_minor": 0
      },
      "text/plain": [
       "HBox(children=(Button(button_style='warning', description='Interrupt', icon='times', style=ButtonStyle(), tool…"
      ]
     },
     "metadata": {},
     "output_type": "display_data"
    },
    {
     "name": "stdout",
     "output_type": "stream",
     "text": [
      "Job starting...\n",
      "Job started\n"
     ]
    }
   ],
   "source": [
    "%%flink_execute_sql\n",
    "INSERT INTO visit_psql\n",
    "SELECT \n",
    "id as identifier, \n",
    " REPLACE(\n",
    "    e.serviceProvider.reference, \n",
    "    'Organization?identifier=https://github.com/synthetichealth/synthea|', \n",
    "    ''\n",
    "  ) AS id_organization,\n",
    "  REPLACE(\n",
    "    e.participant[1].individual.reference, \n",
    "    'Practitioner?identifier=http://hl7.org/fhir/sid/us-npi|', \n",
    "    ''\n",
    "  ) AS id_practitioner,\n",
    "  REPLACE(\n",
    "      e.`subject`.`reference`, \n",
    "    'urn:uuid:', \n",
    "    ''\n",
    "  )\n",
    "  AS id_patient,\n",
    "status,\n",
    " e.`period`.`start` as startTime,\n",
    "  e.`period`.`end` as endTime,\n",
    "   e.type[1].coding[1].display as `type`\n",
    "   FROM encounter e;"
   ]
  }
 ],
 "metadata": {
  "kernelspec": {
   "display_name": "venv",
   "language": "python",
   "name": "python3"
  },
  "language_info": {
   "codemirror_mode": {
    "name": "ipython",
    "version": 3
   },
   "file_extension": ".py",
   "mimetype": "text/x-python",
   "name": "python",
   "nbconvert_exporter": "python",
   "pygments_lexer": "ipython3",
   "version": "3.10.14"
  }
 },
 "nbformat": 4,
 "nbformat_minor": 2
}
