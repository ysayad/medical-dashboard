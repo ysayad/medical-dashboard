{
 "cells": [
  {
   "cell_type": "code",
   "execution_count": null,
   "metadata": {},
   "outputs": [],
   "source": [
    "%env JAVA_TOOL_OPTIONS='--add-opens=java.base/java.util=ALL-UNNAMED --add-opens=java.base/java.lang=ALL-UNNAMED'\n",
    "%env FLINK_CONF_DIR=/Users/lgfquentin/dev/medical-dashboard/back-end-synthea-flink/config"
   ]
  },
  {
   "cell_type": "code",
   "execution_count": null,
   "metadata": {},
   "outputs": [],
   "source": [
    "%load_ext streaming_jupyter_integrations.magics"
   ]
  },
  {
   "cell_type": "code",
   "execution_count": null,
   "metadata": {},
   "outputs": [],
   "source": [
    "%flink_connect --execution-target remote --remote-hostname localhost --remote-port 8081\n"
   ]
  },
  {
   "cell_type": "code",
   "execution_count": null,
   "metadata": {},
   "outputs": [],
   "source": [
    "%%flink_execute_sql\n",
    "CREATE TABLE encounter (\n",
    "  `id` STRING,\n",
    "  `status` STRING,\n",
    "  `type` ROW (\n",
    "    `coding` ROW (\n",
    "      `code` STRING,\n",
    "      `display` STRING\n",
    "    ) ARRAY  ) ARRAY,\n",
    "  `subject` ROW (\n",
    "    `reference` STRING,\n",
    "    `display` STRING\n",
    "  ),\n",
    "  `participant` ROW (\n",
    "    `individual` ROW (\n",
    "      `reference` STRING,\n",
    "      `display` STRING\n",
    "    )\n",
    "  ) ARRAY,\n",
    "  `period` ROW (\n",
    "    `start` STRING,\n",
    "    `end` STRING\n",
    "  ),\n",
    "  `serviceProvider` ROW (\n",
    "    `reference` STRING\n",
    "  ) \n",
    ") WITH (\n",
    "  'connector' = 'kafka',\n",
    "  'topic' = 'Encounter',\n",
    "  'properties.bootstrap.servers' = 'kafka-edge1:9092',\n",
    "  'properties.group.id' = 'testGroup',\n",
    "  'scan.startup.mode' = 'earliest-offset',\n",
    "  'format' = 'json'\n",
    ")"
   ]
  },
  {
   "cell_type": "code",
   "execution_count": null,
   "metadata": {},
   "outputs": [],
   "source": [
    "%%flink_execute_sql\n",
    "CREATE TABLE visit_psql (\n",
    "  `identifier` STRING,\n",
    "  `id_organization` STRING,\n",
    "  `id_practitioner` STRING,\n",
    "  `id_patient` STRING,\n",
    "  `status` STRING,\n",
    "  `startTime` STRING,\n",
    "  `endTime` STRING,\n",
    "  `type` STRING,\n",
    "  PRIMARY KEY (`identifier`) NOT ENFORCED\n",
    ") WITH (\n",
    "  'connector' = 'jdbc',\n",
    "  'url' = 'jdbc:postgresql://db:5432/example',\n",
    "  'table-name' = 'public.visit',\n",
    "  'username' = 'example',\n",
    "  'password' = 'example'\n",
    ");"
   ]
  },
  {
   "cell_type": "code",
   "execution_count": null,
   "metadata": {},
   "outputs": [],
   "source": [
    "%%flink_execute_sql\n",
    "INSERT INTO visit_psql\n",
    "SELECT \n",
    "id, \n",
    "status,\n",
    " e.type[1].coding[1].display as type,\n",
    " e.`period`.`start` as startTime,\n",
    "  e.`period`.`end` as endTime,\n",
    "   REPLACE(\n",
    "    e.serviceProvider.reference, \n",
    "    'Organization?identifier=https://github.com/synthetichealth/synthea|', \n",
    "    ''\n",
    "  ) AS id_organization,\n",
    "  REPLACE(\n",
    "      e.`subject`.`reference`, \n",
    "    'urn:uuid:', \n",
    "    ''\n",
    "  )\n",
    "  AS id_patient,\n",
    "  REPLACE(\n",
    "    e.participant[1].individual.reference, \n",
    "    'Practitioner?identifier=http://hl7.org/fhir/sid/us-npi|', \n",
    "    ''\n",
    "  ) AS id_practitioner\n",
    "   FROM encounter e;"
   ]
  }
 ],
 "metadata": {
  "kernelspec": {
   "display_name": "venv",
   "language": "python",
   "name": "python3"
  },
  "language_info": {
   "codemirror_mode": {
    "name": "ipython",
    "version": 3
   },
   "file_extension": ".py",
   "mimetype": "text/x-python",
   "name": "python",
   "nbconvert_exporter": "python",
   "pygments_lexer": "ipython3",
   "version": "3.10.11"
  }
 },
 "nbformat": 4,
 "nbformat_minor": 2
}
