{
 "cells": [
  {
   "cell_type": "code",
   "execution_count": null,
   "metadata": {},
   "outputs": [],
   "source": [
    "%env JAVA_TOOL_OPTIONS='--add-opens=java.base/java.util=ALL-UNNAMED --add-opens=java.base/java.lang=ALL-UNNAMED'\n",
    "%env FLINK_CONF_DIR=/Users/lgfquentin/dev/medical-dashboard/back-end-synthea-flink/config"
   ]
  },
  {
   "cell_type": "code",
   "execution_count": null,
   "metadata": {},
   "outputs": [],
   "source": [
    "%load_ext streaming_jupyter_integrations.magics"
   ]
  },
  {
   "cell_type": "code",
   "execution_count": null,
   "metadata": {},
   "outputs": [],
   "source": [
    "%flink_connect --execution-target remote --remote-hostname localhost --remote-port 8081"
   ]
  },
  {
   "cell_type": "code",
   "execution_count": null,
   "metadata": {},
   "outputs": [],
   "source": [
    "%%flink_execute_sql\n",
    "CREATE TABLE patient (\n",
    "  `id` STRING,\n",
    "  `name` ROW(`family` STRING, `given` STRING ARRAY) ARRAY,\n",
    "  `gender` STRING,\n",
    "  `birthDate` STRING,\n",
    "  `telecom` ROW ( `value` STRING ) ARRAY,\n",
    "  `address` ROW (\n",
    "    `line` STRING ARRAY,\n",
    "    `city` STRING,\n",
    "    `state` STRING,\n",
    "    `postalCode` STRING,\n",
    "    `country` STRING\n",
    "  ) ARRAY,\n",
    "  `maritalStatus` ROW (\n",
    "    `text` STRING\n",
    "  )\n",
    ") WITH (\n",
    "  'connector' = 'kafka',\n",
    "  'topic' = 'Patient',\n",
    "  'properties.bootstrap.servers' = 'kafka-edge1:9092',\n",
    "  'properties.group.id' = 'testGroup',\n",
    "  'scan.startup.mode' = 'earliest-offset',\n",
    "  'format' = 'json'\n",
    ")"
   ]
  },
  {
   "cell_type": "code",
   "execution_count": null,
   "metadata": {},
   "outputs": [],
   "source": [
    "%%flink_execute_sql\n",
    "CREATE TABLE encounter (\n",
    "  `id` STRING,\n",
    "  `status` STRING,\n",
    "  `type` ROW (\n",
    "    `coding` ROW (\n",
    "      `code` STRING,\n",
    "      `display` STRING\n",
    "    ) ARRAY  ) ARRAY,\n",
    "  `subject` ROW (\n",
    "    `reference` STRING,\n",
    "    `display` STRING\n",
    "  ),\n",
    "  `participant` ROW (\n",
    "    `individual` ROW (\n",
    "      `reference` STRING,\n",
    "      `display` STRING\n",
    "    )\n",
    "  ) ARRAY,\n",
    "  `period` ROW (\n",
    "    `start` STRING,\n",
    "    `end` STRING\n",
    "  ),\n",
    "  `serviceProvider` ROW (\n",
    "    `reference` STRING\n",
    "  ) \n",
    ") WITH (\n",
    "  'connector' = 'kafka',\n",
    "  'topic' = 'Encounter',\n",
    "  'properties.bootstrap.servers' = 'kafka-edge1:9092',\n",
    "  'properties.group.id' = 'testGroup',\n",
    "  'scan.startup.mode' = 'earliest-offset',\n",
    "  'format' = 'json'\n",
    ")"
   ]
  },
  {
   "cell_type": "code",
   "execution_count": null,
   "metadata": {},
   "outputs": [],
   "source": [
    "%%flink_execute_sql\n",
    "CREATE TABLE patient_stats (\n",
    "  patient_id STRING,\n",
    "  id_most_seen_doctor STRING,\n",
    "  id_most_visited_hospital STRING,\n",
    "  total_doctor_visits INTEGER,\n",
    "  total_hospital_visits INTEGER\n",
    ") WITH (\n",
    "  'connector' = 'jdbc',\n",
    "  'url' = 'jdbc:postgresql://ep-dark-sea-a20skpa3-pooler.eu-central-1.aws.neon.tech:5432/verceldb',\n",
    "  'table-name' = 'public.patient_stats',\n",
    "  'username' = 'default',\n",
    "  'password' = 'tUyXvsaMq07d'\n",
    ");"
   ]
  },
  {
   "cell_type": "code",
   "execution_count": null,
   "metadata": {},
   "outputs": [],
   "source": [
    "%%flink_execute_sql\n",
    "CREATE VIEW doctor_visits AS\n",
    "SELECT\n",
    "  e.subject.reference AS patient_id,\n",
    "  e.participant[1].individual.reference AS doctor_id,\n",
    "  COUNT(*) AS visit_count\n",
    "FROM\n",
    "  encounter e\n",
    "GROUP BY\n",
    "  e.subject.reference,\n",
    "  e.participant[1].individual.reference;"
   ]
  },
  {
   "cell_type": "code",
   "execution_count": null,
   "metadata": {},
   "outputs": [],
   "source": [
    "%%flink_execute_sql\n",
    "CREATE VIEW hospital_visits AS\n",
    "SELECT\n",
    "  e.subject.reference AS patient_id,\n",
    "  e.serviceProvider.reference AS hospital_id,\n",
    "  COUNT(*) AS visit_count\n",
    "FROM\n",
    "  encounter e\n",
    "GROUP BY\n",
    "  e.subject.reference,\n",
    "  e.serviceProvider.reference;"
   ]
  },
  {
   "cell_type": "code",
   "execution_count": null,
   "metadata": {},
   "outputs": [],
   "source": [
    "%%flink_execute_sql\n",
    "CREATE VIEW most_seen_doctors AS\n",
    "SELECT\n",
    "  patient_id,\n",
    "  doctor_id AS id_most_seen_doctor,\n",
    "  MAX(visit_count) AS total_doctor_visits\n",
    "FROM (\n",
    "  SELECT\n",
    "    patient_id,\n",
    "    doctor_id,\n",
    "    visit_count,\n",
    "    ROW_NUMBER() OVER (PARTITION BY patient_id ORDER BY visit_count DESC) AS rn\n",
    "  FROM doctor_visits\n",
    ")\n",
    "WHERE rn = 1\n",
    "GROUP BY patient_id, doctor_id;"
   ]
  },
  {
   "cell_type": "code",
   "execution_count": null,
   "metadata": {},
   "outputs": [],
   "source": [
    "%%flink_execute_sql\n",
    "CREATE VIEW most_visited_hospitals AS\n",
    "SELECT\n",
    "  patient_id,\n",
    "  hospital_id AS id_most_visited_hospital,\n",
    "  MAX(visit_count) AS total_hospital_visits\n",
    "FROM (\n",
    "  SELECT\n",
    "    patient_id,\n",
    "    hospital_id,\n",
    "    visit_count,\n",
    "    ROW_NUMBER() OVER (PARTITION BY patient_id ORDER BY visit_count DESC) AS rn\n",
    "  FROM hospital_visits\n",
    ")\n",
    "WHERE rn = 1\n",
    "GROUP BY patient_id, hospital_id;"
   ]
  },
  {
   "cell_type": "code",
   "execution_count": null,
   "metadata": {},
   "outputs": [],
   "source": [
    "%%flink_execute_sql\n",
    "SELECT\n",
    "  p.id AS patient_id,\n",
    "  d.id_most_seen_doctor,\n",
    "  d.total_doctor_visits,\n",
    "  h.id_most_visited_hospital,\n",
    "  h.total_hospital_visits\n",
    "FROM\n",
    "  patient p\n",
    "LEFT JOIN\n",
    "  most_seen_doctors d\n",
    "ON p.id = d.patient_id\n",
    "LEFT JOIN\n",
    "  most_visited_hospitals h\n",
    "ON p.id = h.patient_id;\n"
   ]
  },
  {
   "cell_type": "code",
   "execution_count": 23,
   "metadata": {},
   "outputs": [
    {
     "name": "stdout",
     "output_type": "stream",
     "text": [
      "This job runs in a background, please either wait or interrupt its execution before continuing\n"
     ]
    },
    {
     "data": {
      "application/vnd.jupyter.widget-view+json": {
       "model_id": "5fda2a22d4ce4c9a948b773fa2e67ee4",
       "version_major": 2,
       "version_minor": 0
      },
      "text/plain": [
       "HBox(children=(Button(button_style='warning', description='Interrupt', icon='times', style=ButtonStyle(), tool…"
      ]
     },
     "metadata": {},
     "output_type": "display_data"
    },
    {
     "name": "stdout",
     "output_type": "stream",
     "text": [
      "Job starting...\n",
      "Execution failed\n"
     ]
    },
    {
     "name": "stderr",
     "output_type": "stream",
     "text": [
      "An error occurred while calling o32.executeSql.\n",
      ": org.apache.flink.table.api.ValidationException: SQL validation failed. SQL validation failed. From line 24, column 3 to line 24, column 27: Expression 'msd.id_most_seen_doctor' is not being grouped\n",
      "\tat org.apache.flink.table.planner.calcite.FlinkPlannerImpl.org$apache$flink$table$planner$calcite$FlinkPlannerImpl$$validate(FlinkPlannerImpl.scala:200)\n",
      "\tat org.apache.flink.table.planner.calcite.FlinkPlannerImpl.validate(FlinkPlannerImpl.scala:117)\n",
      "\tat org.apache.flink.table.planner.operations.SqlNodeToOperationConversion.convert(SqlNodeToOperationConversion.java:261)\n",
      "\tat org.apache.flink.table.planner.delegation.ParserImpl.parse(ParserImpl.java:106)\n",
      "\tat org.apache.flink.table.api.internal.TableEnvironmentImpl.executeSql(TableEnvironmentImpl.java:728)\n",
      "\tat jdk.internal.reflect.GeneratedMethodAccessor18.invoke(Unknown Source)\n",
      "\tat java.base/jdk.internal.reflect.DelegatingMethodAccessorImpl.invoke(DelegatingMethodAccessorImpl.java:43)\n",
      "\tat java.base/java.lang.reflect.Method.invoke(Method.java:566)\n",
      "\tat org.apache.flink.api.python.shaded.py4j.reflection.MethodInvoker.invoke(MethodInvoker.java:244)\n",
      "\tat org.apache.flink.api.python.shaded.py4j.reflection.ReflectionEngine.invoke(ReflectionEngine.java:374)\n",
      "\tat org.apache.flink.api.python.shaded.py4j.Gateway.invoke(Gateway.java:282)\n",
      "\tat org.apache.flink.api.python.shaded.py4j.commands.AbstractCommand.invokeMethod(AbstractCommand.java:132)\n",
      "\tat org.apache.flink.api.python.shaded.py4j.commands.CallCommand.execute(CallCommand.java:79)\n",
      "\tat org.apache.flink.api.python.shaded.py4j.GatewayConnection.run(GatewayConnection.java:238)\n",
      "\tat java.base/java.lang.Thread.run(Thread.java:829)\n",
      "Caused by: org.apache.flink.table.api.ValidationException: SQL validation failed. From line 24, column 3 to line 24, column 27: Expression 'msd.id_most_seen_doctor' is not being grouped\n",
      "\tat org.apache.flink.table.planner.calcite.FlinkPlannerImpl.org$apache$flink$table$planner$calcite$FlinkPlannerImpl$$validate(FlinkPlannerImpl.scala:200)\n",
      "\tat org.apache.flink.table.planner.calcite.FlinkPlannerImpl.validate(FlinkPlannerImpl.scala:117)\n",
      "\tat org.apache.flink.table.planner.calcite.FlinkPlannerImpl.validateRichSqlInsert(FlinkPlannerImpl.scala:305)\n",
      "\tat org.apache.flink.table.planner.calcite.FlinkPlannerImpl.org$apache$flink$table$planner$calcite$FlinkPlannerImpl$$validate(FlinkPlannerImpl.scala:181)\n",
      "\t... 14 more\n",
      "Caused by: org.apache.calcite.runtime.CalciteContextException: From line 24, column 3 to line 24, column 27: Expression 'msd.id_most_seen_doctor' is not being grouped\n",
      "\tat jdk.internal.reflect.GeneratedConstructorAccessor13.newInstance(Unknown Source)\n",
      "\tat java.base/jdk.internal.reflect.DelegatingConstructorAccessorImpl.newInstance(DelegatingConstructorAccessorImpl.java:45)\n",
      "\tat java.base/java.lang.reflect.Constructor.newInstance(Constructor.java:490)\n",
      "\tat org.apache.calcite.runtime.Resources$ExInstWithCause.ex(Resources.java:505)\n",
      "\tat org.apache.calcite.sql.SqlUtil.newContextException(SqlUtil.java:932)\n",
      "\tat org.apache.calcite.sql.SqlUtil.newContextException(SqlUtil.java:917)\n",
      "\tat org.apache.calcite.sql.validate.SqlValidatorImpl.newValidationError(SqlValidatorImpl.java:5247)\n",
      "\tat org.apache.calcite.sql.validate.AggChecker.visit(AggChecker.java:116)\n",
      "\tat org.apache.calcite.sql.validate.AggChecker.visit(AggChecker.java:43)\n",
      "\tat org.apache.calcite.sql.SqlIdentifier.accept(SqlIdentifier.java:324)\n",
      "\tat org.apache.calcite.sql.validate.AggregatingSelectScope.checkAggregateExpr(AggregatingSelectScope.java:233)\n",
      "\tat org.apache.calcite.sql.validate.AggregatingSelectScope.validateExpr(AggregatingSelectScope.java:242)\n",
      "\tat org.apache.calcite.sql.validate.SqlValidatorImpl.validateExpr(SqlValidatorImpl.java:4463)\n",
      "\tat org.apache.calcite.sql.validate.SqlValidatorImpl.validateSelectList(SqlValidatorImpl.java:4435)\n",
      "\tat org.apache.calcite.sql.validate.SqlValidatorImpl.validateSelect(SqlValidatorImpl.java:3615)\n",
      "\tat org.apache.calcite.sql.validate.SelectNamespace.validateImpl(SelectNamespace.java:64)\n",
      "\tat org.apache.calcite.sql.validate.AbstractNamespace.validate(AbstractNamespace.java:89)\n",
      "\tat org.apache.calcite.sql.validate.SqlValidatorImpl.validateNamespace(SqlValidatorImpl.java:1050)\n",
      "\tat org.apache.calcite.sql.validate.SqlValidatorImpl.validateQuery(SqlValidatorImpl.java:1025)\n",
      "\tat org.apache.calcite.sql.validate.WithNamespace.validateImpl(WithNamespace.java:59)\n",
      "\tat org.apache.calcite.sql.validate.AbstractNamespace.validate(AbstractNamespace.java:89)\n",
      "\tat org.apache.calcite.sql.validate.SqlValidatorImpl.validateNamespace(SqlValidatorImpl.java:1050)\n",
      "\tat org.apache.calcite.sql.validate.SqlValidatorImpl.validateWith(SqlValidatorImpl.java:4056)\n",
      "\tat org.apache.calcite.sql.SqlWith.validate(SqlWith.java:74)\n",
      "\tat org.apache.calcite.sql.validate.SqlValidatorImpl.validateScopedExpression(SqlValidatorImpl.java:1000)\n",
      "\tat org.apache.calcite.sql.validate.SqlValidatorImpl.validate(SqlValidatorImpl.java:749)\n",
      "\tat org.apache.flink.table.planner.calcite.FlinkPlannerImpl.org$apache$flink$table$planner$calcite$FlinkPlannerImpl$$validate(FlinkPlannerImpl.scala:196)\n",
      "\t... 17 more\n",
      "Caused by: org.apache.calcite.sql.validate.SqlValidatorException: Expression 'msd.id_most_seen_doctor' is not being grouped\n",
      "\tat jdk.internal.reflect.GeneratedConstructorAccessor12.newInstance(Unknown Source)\n",
      "\tat java.base/jdk.internal.reflect.DelegatingConstructorAccessorImpl.newInstance(DelegatingConstructorAccessorImpl.java:45)\n",
      "\tat java.base/java.lang.reflect.Constructor.newInstance(Constructor.java:490)\n",
      "\tat org.apache.calcite.runtime.Resources$ExInstWithCause.ex(Resources.java:505)\n",
      "\tat org.apache.calcite.runtime.Resources$ExInst.ex(Resources.java:599)\n",
      "\t... 40 more\n",
      "\n"
     ]
    }
   ],
   "source": [
    "%%flink_execute_sql\n",
    "INSERT INTO patient_stats\n",
    "WITH most_seen_doctor AS (\n",
    "  SELECT\n",
    "    e.`subject`.`reference` AS patient_id,\n",
    "    COUNT(*) AS total_doctor_visits,\n",
    "    MAX(e.`participant`[1].`individual`.`reference`) AS id_most_seen_doctor\n",
    "  FROM encounter e\n",
    "  JOIN patient p ON e.`subject`.`reference` = p.`id`\n",
    "  GROUP BY e.`subject`.`reference`\n",
    "),\n",
    "most_visited_hospital AS (\n",
    "  SELECT\n",
    "    e.`subject`.`reference` AS patient_id,\n",
    "    COUNT(*) AS total_hospital_visits,\n",
    "    MAX(e.`serviceProvider`.`reference`) AS id_most_visited_hospital\n",
    "  FROM encounter e\n",
    "  JOIN patient p ON e.`subject`.`reference` = p.`id`\n",
    "  GROUP BY e.`subject`.`reference`\n",
    ")\n",
    "SELECT\n",
    "  p.`id` AS patient_id,\n",
    "  COUNT(DISTINCT e.`serviceProvider`.`reference`) AS total_patient_count,\n",
    "  COUNT(*) AS total_visit_count,\n",
    "  MAX(msd.`id_most_seen_doctor`) AS id_most_seen_doctor,\n",
    "  MAX(msd.`total_doctor_visits`) AS total_doctor_visits,\n",
    "  MAX(mvh.`id_most_visited_hospital`) AS id_most_visited_hospital,\n",
    "  MAX(mvh.`total_hospital_visits`) AS total_hospital_visits\n",
    "FROM encounter e\n",
    "JOIN patient p ON e.`subject`.`reference` = p.`id`\n",
    "LEFT JOIN most_seen_doctor msd ON e.`subject`.`reference` = msd.`patient_id`\n",
    "LEFT JOIN most_visited_hospital mvh ON e.`subject`.`reference` = mvh.`patient_id`\n",
    "GROUP BY p.`id`;\n"
   ]
  }
 ],
 "metadata": {
  "kernelspec": {
   "display_name": "venv",
   "language": "python",
   "name": "python3"
  },
  "language_info": {
   "codemirror_mode": {
    "name": "ipython",
    "version": 3
   },
   "file_extension": ".py",
   "mimetype": "text/x-python",
   "name": "python",
   "nbconvert_exporter": "python",
   "pygments_lexer": "ipython3",
   "version": "3.10.11"
  }
 },
 "nbformat": 4,
 "nbformat_minor": 2
}
