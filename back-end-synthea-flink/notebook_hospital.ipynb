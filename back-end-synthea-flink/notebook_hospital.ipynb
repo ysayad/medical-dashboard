{
 "cells": [
  {
   "cell_type": "code",
   "execution_count": null,
   "metadata": {},
   "outputs": [],
   "source": [
    "%env JAVA_TOOL_OPTIONS='--add-opens=java.base/java.util=ALL-UNNAMED --add-opens=java.base/java.lang=ALL-UNNAMED'\n",
    "%env FLINK_CONF_DIR=/Users/lgfquentin/dev/medical-dashboard/back-end-synthea-flink/config"
   ]
  },
  {
   "cell_type": "code",
   "execution_count": null,
   "metadata": {},
   "outputs": [],
   "source": [
    "%load_ext streaming_jupyter_integrations.magics"
   ]
  },
  {
   "cell_type": "code",
   "execution_count": null,
   "metadata": {},
   "outputs": [],
   "source": [
    "%flink_connect --execution-target remote --remote-hostname localhost --remote-port 8081\n",
    "#%flink_connect "
   ]
  },
  {
   "cell_type": "code",
   "execution_count": null,
   "metadata": {},
   "outputs": [],
   "source": [
    "%%flink_execute_sql\n",
    "CREATE OR REPLACE TABLE hospital (\n",
    "  `id` STRING,\n",
    "  `identifier` ROW (`value` STRING) ARRAY,\n",
    "  `status` STRING,\n",
    "  `name` STRING,\n",
    "  `telecom` ROW (`system` STRING, `value` STRING) ARRAY,\n",
    "  `address` ROW (\n",
    "    `line` STRING ARRAY,\n",
    "    `city` STRING,\n",
    "    `state` STRING,\n",
    "    `postalCode` STRING,\n",
    "    `country` STRING\n",
    "  ),\n",
    "  `position` ROW (\n",
    "    `longitude` DOUBLE,\n",
    "    `latitude` DOUBLE\n",
    "  ),\n",
    "  `managingOrganization` ROW (\n",
    "    `identifier` ROW (`value` STRING)\n",
    "  )\n",
    ") WITH (\n",
    "  'connector' = 'kafka',\n",
    "  'topic' = 'Location',\n",
    "  'properties.bootstrap.servers' = 'kafka-edge1:9092',\n",
    "  'properties.group.id' = 'testGroup',\n",
    "  'scan.startup.mode' = 'earliest-offset',\n",
    "  'format' = 'json'\n",
    ")"
   ]
  },
  {
   "cell_type": "code",
   "execution_count": null,
   "metadata": {},
   "outputs": [],
   "source": [
    "%%flink_execute_sql\n",
    "CREATE TABLE hospital_psql (\n",
    "  `id_organization` STRING,\n",
    "  `id_location` STRING,\n",
    "  `status` STRING,\n",
    "  `name` STRING,\n",
    "  `telecom` STRING,\n",
    "  `address_line` STRING,\n",
    "  `city` STRING,\n",
    "  `state` STRING,\n",
    "  `postalCode` STRING,\n",
    "  `country` STRING,\n",
    "  `longitude` DOUBLE,\n",
    "  `latitude` DOUBLE,\n",
    "  PRIMARY KEY (`id_organization`) NOT ENFORCED\n",
    ") WITH (\n",
    "  'connector' = 'jdbc',\n",
    "  'url' = 'jdbc:postgresql://db:5432/example',\n",
    "  'table-name' = 'public.hospital',\n",
    "  'username' = 'example',\n",
    "  'password' = 'example'\n",
    ");\n"
   ]
  },
  {
   "cell_type": "code",
   "execution_count": null,
   "metadata": {},
   "outputs": [],
   "source": [
    "%%flink_execute_sql\n",
    "INSERT INTO hospital_psql\n",
    "SELECT \n",
    "  h.managingOrganization.identifier[1] as id_organization,\n",
    "  h.id as id_location, \n",
    "  status, \n",
    "  name, \n",
    "  h.telecom[1][1] AS telecom, \n",
    "  h.address.line[1] AS address,  \n",
    "  h.address.city AS city, \n",
    "  h.address.state AS state, \n",
    "  h.address.country AS country, \n",
    "  h.address.postalCode AS postalCode, \n",
    "  h.`position`.longitude AS longitude,\n",
    "  h.`position`.latitude AS latitude\n",
    "  FROM \n",
    "  hospital h WHERE h.managingOrganization.identifier[1] <>'None';"
   ]
  }
 ],
 "metadata": {
  "language_info": {
   "name": "python"
  }
 },
 "nbformat": 4,
 "nbformat_minor": 2
}
